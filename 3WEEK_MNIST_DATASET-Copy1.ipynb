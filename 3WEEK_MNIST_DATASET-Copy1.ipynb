{
 "cells": [
  {
   "cell_type": "markdown",
   "id": "ef12fae7",
   "metadata": {},
   "source": [
    "# MNIST DATASET\n",
    "\n",
    "목표: 흑백 손글씨 이미지(0 ~ 9)를 0 ~ 9로 분류한다.\n",
    "\n",
    "구성: 60000개의 훈련 이미지, 10000개의 테스트 이미지 cf.이미지와 레이블(그냥 수 배열로 구성)은 일대일 관계"
   ]
  },
  {
   "cell_type": "code",
   "execution_count": 1,
   "id": "3bc36f36",
   "metadata": {},
   "outputs": [
    {
     "name": "stdout",
     "output_type": "stream",
     "text": [
      "(60000, 28, 28)\n",
      "60000\n",
      "[5 0 4 ... 5 6 8]\n",
      "[7 2 1 ... 4 5 6]\n"
     ]
    }
   ],
   "source": [
    "from keras.datasets import mnist\n",
    "(train_images,train_labels),(test_images,test_labels) = mnist.load_data()\n",
    "#train_images,train_labels가 모델이 학습해야할 훈련 세트\n",
    "#test_images,test_labels를 통하여 테스트할 것임\n",
    "#이미지는 넘파이 배열로 인코딩되어 있으며 레이블(특정 샘플의 클래스)는 0~9까지의 숫자 배열\n",
    "#cf.분류 문제의 범주(category): 클래스(class). 데이터 포인트: 샘플(sample). 특정 샘플의 클래스: 레이블(lable)\n",
    "\n",
    "print(train_images.shape) #shape는 배열의 크기 출력(면,행,열)\n",
    "print(len(train_labels)) \n",
    "print(train_labels)\n",
    "print(test_labels)\n"
   ]
  },
  {
   "cell_type": "code",
   "execution_count": 2,
   "id": "8fc2a0a3",
   "metadata": {},
   "outputs": [],
   "source": [
    "from keras import models\n",
    "from keras import layers\n",
    "\n",
    "network = models.Sequential()\n",
    "network.add(layers.Dense(512, activation='relu',input_shape=(28*28,))) \n",
    "                         #↖노드 개수:512, relu는 음수를 0으로 만든다, (28*28,):1차원으로 입력받음 \n",
    "network.add(layers.Dense(10,activation='softmax')) #10개의 확률이 들어있는 배열을 반환. softmax는 총합이 1."
   ]
  },
  {
   "cell_type": "code",
   "execution_count": 3,
   "id": "f4ffc1a6",
   "metadata": {},
   "outputs": [],
   "source": [
    "network.compile(optimizer='rmsprop', #옵티마이저(optimizer): 역전파 알고리즘을 구현한 함수, 손실함수를 기반으로 가중치 업데이트\n",
    "               loss='categorical_crossentropy', #손실함수(loss function): 기대치에서 얼마나 벗어났는지 측정\n",
    "               metrics=['accuracy'])"
   ]
  },
  {
   "cell_type": "code",
   "execution_count": 4,
   "id": "97fc6156",
   "metadata": {},
   "outputs": [],
   "source": [
    "train_images = train_images.reshape((60000,28*28)) #행과 열을 하나의 배열로 묶음(60000,28,28) -> (60000,28*28)\n",
    "train_images = train_images.astype('float32') / 255 #0~255 사이의 값을 가지는 배열을 0~1사이로 만듦(자료형 또한 uint8->float32)\n",
    "\n",
    "test_images = test_images.reshape((10000,28*28))\n",
    "test_images = test_images.astype('float32') / 255"
   ]
  },
  {
   "cell_type": "code",
   "execution_count": 5,
   "id": "08aae4ea",
   "metadata": {},
   "outputs": [
    {
     "name": "stdout",
     "output_type": "stream",
     "text": [
      "[[0. 0. 0. ... 0. 0. 0.]\n",
      " [1. 0. 0. ... 0. 0. 0.]\n",
      " [0. 0. 0. ... 0. 0. 0.]\n",
      " ...\n",
      " [0. 0. 0. ... 0. 0. 0.]\n",
      " [0. 0. 0. ... 0. 0. 0.]\n",
      " [0. 0. 0. ... 0. 1. 0.]]\n"
     ]
    }
   ],
   "source": [
    "#from keras.utils import to_categorical -> ImportError: cannot import name 'to_categorical' from 'keras.utils'\n",
    "from tensorflow.keras.utils import to_categorical\n",
    "\n",
    "train_labels = to_categorical(train_labels) #one-hot encoding 해줌\n",
    "test_labels = to_categorical(test_labels)\n",
    "print(train_labels)"
   ]
  },
  {
   "cell_type": "code",
   "execution_count": 6,
   "id": "3664e759",
   "metadata": {},
   "outputs": [
    {
     "name": "stdout",
     "output_type": "stream",
     "text": [
      "Epoch 1/5\n",
      "469/469 [==============================] - 3s 5ms/step - loss: 0.2627 - accuracy: 0.9251\n",
      "Epoch 2/5\n",
      "469/469 [==============================] - 2s 5ms/step - loss: 0.1056 - accuracy: 0.9690\n",
      "Epoch 3/5\n",
      "469/469 [==============================] - 2s 5ms/step - loss: 0.0698 - accuracy: 0.9793\n",
      "Epoch 4/5\n",
      "469/469 [==============================] - 2s 5ms/step - loss: 0.0504 - accuracy: 0.9846\n",
      "Epoch 5/5\n",
      "469/469 [==============================] - 2s 5ms/step - loss: 0.0376 - accuracy: 0.9885\n"
     ]
    },
    {
     "data": {
      "text/plain": [
       "<keras.callbacks.History at 0x244863b0d00>"
      ]
     },
     "execution_count": 6,
     "metadata": {},
     "output_type": "execute_result"
    }
   ],
   "source": [
    "network.fit(train_images, train_labels, epochs=5, batch_size=128) #훈련 데이터에서 128개를 뽑아 훈련하는 과정을 5번 반복"
   ]
  },
  {
   "cell_type": "code",
   "execution_count": 7,
   "id": "005f1005",
   "metadata": {},
   "outputs": [
    {
     "name": "stdout",
     "output_type": "stream",
     "text": [
      "313/313 [==============================] - 0s 1ms/step - loss: 0.0678 - accuracy: 0.9798\n",
      "손실: 0.06784217804670334\n",
      "정확도: 0.9797999858856201\n"
     ]
    }
   ],
   "source": [
    "test_loss, test_acc = network.evaluate(test_images, test_labels) #실행 결과 정확도가 소폭 감소한것은 overfitting 때문\n",
    "print(\"손실:\",test_loss)\n",
    "print(\"정확도:\",test_acc)"
   ]
  }
 ],
 "metadata": {
  "kernelspec": {
   "display_name": "Python 3 (ipykernel)",
   "language": "python",
   "name": "python3"
  },
  "language_info": {
   "codemirror_mode": {
    "name": "ipython",
    "version": 3
   },
   "file_extension": ".py",
   "mimetype": "text/x-python",
   "name": "python",
   "nbconvert_exporter": "python",
   "pygments_lexer": "ipython3",
   "version": "3.9.7"
  }
 },
 "nbformat": 4,
 "nbformat_minor": 5
}
