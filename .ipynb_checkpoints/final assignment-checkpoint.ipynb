{
 "cells": [
  {
   "cell_type": "code",
   "execution_count": 2,
   "id": "4dcfd17b",
   "metadata": {},
   "outputs": [
    {
     "name": "stdout",
     "output_type": "stream",
     "text": [
      "119\n",
      "119\n",
      "59\n",
      "59\n"
     ]
    }
   ],
   "source": [
    "#디렉터리 생성 후 경로 변수만 필요햘 떄\n",
    "import os\n",
    "base_dir = '/Users/jw1010110/AI/car-dataset'\n",
    "\n",
    "train_dir = os.path.join(base_dir,'train') #train 폴더 경로\n",
    "validation_dir = os.path.join(base_dir,'validation')#validation 폴더 경로\n",
    "\n",
    "train_sedan_dir = os.path.join(train_dir,'sedan')\n",
    "train_suv_dir = os.path.join(train_dir,'suv')\n",
    "\n",
    "validation_sedan_dir = os.path.join(validation_dir,'sedan')\n",
    "validation_suv_dir = os.path.join(validation_dir,'suv')\n",
    "\n",
    "print(len(os.listdir(train_sedan_dir)))\n",
    "print(len(os.listdir(train_suv_dir)))\n",
    "print(len(os.listdir(validation_sedan_dir)))\n",
    "print(len(os.listdir(validation_suv_dir)))"
   ]
  },
  {
   "cell_type": "code",
   "execution_count": 3,
   "id": "85600465",
   "metadata": {},
   "outputs": [
    {
     "name": "stdout",
     "output_type": "stream",
     "text": [
      "Metal device set to: Apple M1 Pro\n"
     ]
    },
    {
     "name": "stderr",
     "output_type": "stream",
     "text": [
      "2022-06-06 21:44:27.187826: I tensorflow/core/common_runtime/pluggable_device/pluggable_device_factory.cc:305] Could not identify NUMA node of platform GPU ID 0, defaulting to 0. Your kernel may not have been built with NUMA support.\n",
      "2022-06-06 21:44:27.187988: I tensorflow/core/common_runtime/pluggable_device/pluggable_device_factory.cc:271] Created TensorFlow device (/job:localhost/replica:0/task:0/device:GPU:0 with 0 MB memory) -> physical PluggableDevice (device: 0, name: METAL, pci bus id: <undefined>)\n"
     ]
    }
   ],
   "source": [
    "from tensorflow.keras.applications import VGG16\n",
    "conv_base = VGG16(weights='imagenet',include_top=False,input_shape=(150,150,3)) #별도의 세단과 suv 클래스 2개를 구분하는 완전 연결층 추가할거임"
   ]
  },
  {
   "cell_type": "code",
   "execution_count": 4,
   "id": "febeda5e",
   "metadata": {},
   "outputs": [
    {
     "name": "stdout",
     "output_type": "stream",
     "text": [
      "Model: \"vgg16\"\n",
      "_________________________________________________________________\n",
      " Layer (type)                Output Shape              Param #   \n",
      "=================================================================\n",
      " input_1 (InputLayer)        [(None, 150, 150, 3)]     0         \n",
      "                                                                 \n",
      " block1_conv1 (Conv2D)       (None, 150, 150, 64)      1792      \n",
      "                                                                 \n",
      " block1_conv2 (Conv2D)       (None, 150, 150, 64)      36928     \n",
      "                                                                 \n",
      " block1_pool (MaxPooling2D)  (None, 75, 75, 64)        0         \n",
      "                                                                 \n",
      " block2_conv1 (Conv2D)       (None, 75, 75, 128)       73856     \n",
      "                                                                 \n",
      " block2_conv2 (Conv2D)       (None, 75, 75, 128)       147584    \n",
      "                                                                 \n",
      " block2_pool (MaxPooling2D)  (None, 37, 37, 128)       0         \n",
      "                                                                 \n",
      " block3_conv1 (Conv2D)       (None, 37, 37, 256)       295168    \n",
      "                                                                 \n",
      " block3_conv2 (Conv2D)       (None, 37, 37, 256)       590080    \n",
      "                                                                 \n",
      " block3_conv3 (Conv2D)       (None, 37, 37, 256)       590080    \n",
      "                                                                 \n",
      " block3_pool (MaxPooling2D)  (None, 18, 18, 256)       0         \n",
      "                                                                 \n",
      " block4_conv1 (Conv2D)       (None, 18, 18, 512)       1180160   \n",
      "                                                                 \n",
      " block4_conv2 (Conv2D)       (None, 18, 18, 512)       2359808   \n",
      "                                                                 \n",
      " block4_conv3 (Conv2D)       (None, 18, 18, 512)       2359808   \n",
      "                                                                 \n",
      " block4_pool (MaxPooling2D)  (None, 9, 9, 512)         0         \n",
      "                                                                 \n",
      " block5_conv1 (Conv2D)       (None, 9, 9, 512)         2359808   \n",
      "                                                                 \n",
      " block5_conv2 (Conv2D)       (None, 9, 9, 512)         2359808   \n",
      "                                                                 \n",
      " block5_conv3 (Conv2D)       (None, 9, 9, 512)         2359808   \n",
      "                                                                 \n",
      " block5_pool (MaxPooling2D)  (None, 4, 4, 512)         0         \n",
      "                                                                 \n",
      "=================================================================\n",
      "Total params: 14,714,688\n",
      "Trainable params: 14,714,688\n",
      "Non-trainable params: 0\n",
      "_________________________________________________________________\n"
     ]
    }
   ],
   "source": [
    "conv_base.summary()"
   ]
  },
  {
   "cell_type": "code",
   "execution_count": 5,
   "id": "641f4bc0",
   "metadata": {},
   "outputs": [],
   "source": [
    "#합성곱 기반층 위에 완전 연결 분류기 추가\n",
    "from keras import models\n",
    "from keras import layers\n",
    "\n",
    "model = models.Sequential()\n",
    "model.add(conv_base)\n",
    "model.add(layers.Flatten()) #4*4*512=8192\n",
    "model.add(layers.Dense(256,activation='relu'))\n",
    "model.add(layers.Dense(1,activation='sigmoid'))\n"
   ]
  },
  {
   "cell_type": "code",
   "execution_count": 6,
   "id": "3a701ce9",
   "metadata": {},
   "outputs": [
    {
     "name": "stdout",
     "output_type": "stream",
     "text": [
      "Model: \"sequential\"\n",
      "_________________________________________________________________\n",
      " Layer (type)                Output Shape              Param #   \n",
      "=================================================================\n",
      " vgg16 (Functional)          (None, 4, 4, 512)         14714688  \n",
      "                                                                 \n",
      " flatten (Flatten)           (None, 8192)              0         \n",
      "                                                                 \n",
      " dense (Dense)               (None, 256)               2097408   \n",
      "                                                                 \n",
      " dense_1 (Dense)             (None, 1)                 257       \n",
      "                                                                 \n",
      "=================================================================\n",
      "Total params: 16,812,353\n",
      "Trainable params: 16,812,353\n",
      "Non-trainable params: 0\n",
      "_________________________________________________________________\n"
     ]
    }
   ],
   "source": [
    "model.summary()"
   ]
  },
  {
   "cell_type": "code",
   "execution_count": 7,
   "id": "47833034",
   "metadata": {},
   "outputs": [],
   "source": [
    "#사전에 학습된 표현이 훈련되는 동안 수정되는 것을 방지하기 위해 동결\n",
    "conv_base.trainable = False"
   ]
  },
  {
   "cell_type": "code",
   "execution_count": null,
   "id": "9a0bb3e6",
   "metadata": {
    "scrolled": true
   },
   "outputs": [
    {
     "name": "stdout",
     "output_type": "stream",
     "text": [
      "Found 238 images belonging to 2 classes.\n",
      "Found 118 images belonging to 2 classes.\n",
      "Epoch 1/100\n"
     ]
    },
    {
     "name": "stderr",
     "output_type": "stream",
     "text": [
      "/Users/jw1010110/miniforge3/envs/tensorflow_gpu/lib/python3.9/site-packages/keras/optimizer_v2/rmsprop.py:130: UserWarning: The `lr` argument is deprecated, use `learning_rate` instead.\n",
      "  super(RMSprop, self).__init__(name, **kwargs)\n",
      "/var/folders/pn/m2bqkk014sv8108lk7tl4xy80000gn/T/ipykernel_20449/1115708154.py:35: UserWarning: `Model.fit_generator` is deprecated and will be removed in a future version. Please use `Model.fit`, which supports generators.\n",
      "  history = model.fit_generator(train_generator,\n",
      "2022-06-06 21:44:31.944809: W tensorflow/core/platform/profile_utils/cpu_utils.cc:128] Failed to get CPU frequency: 0 Hz\n",
      "2022-06-06 21:44:32.235683: I tensorflow/core/grappler/optimizers/custom_graph_optimizer_registry.cc:113] Plugin optimizer for device_type GPU is enabled.\n"
     ]
    },
    {
     "name": "stdout",
     "output_type": "stream",
     "text": [
      "6/6 [==============================] - ETA: 0s - loss: 0.7250 - acc: 0.5254"
     ]
    },
    {
     "name": "stderr",
     "output_type": "stream",
     "text": [
      "2022-06-06 21:44:33.029441: I tensorflow/core/grappler/optimizers/custom_graph_optimizer_registry.cc:113] Plugin optimizer for device_type GPU is enabled.\n"
     ]
    },
    {
     "name": "stdout",
     "output_type": "stream",
     "text": [
      "6/6 [==============================] - 1s 155ms/step - loss: 0.7250 - acc: 0.5254 - val_loss: 0.6967 - val_acc: 0.5833\n",
      "Epoch 2/100\n",
      "6/6 [==============================] - 1s 122ms/step - loss: 0.6993 - acc: 0.5085 - val_loss: 0.7076 - val_acc: 0.5500\n",
      "Epoch 3/100\n",
      "6/6 [==============================] - 1s 121ms/step - loss: 0.6600 - acc: 0.6356 - val_loss: 0.6975 - val_acc: 0.4833\n",
      "Epoch 4/100\n",
      "6/6 [==============================] - 1s 122ms/step - loss: 0.6704 - acc: 0.5917 - val_loss: 0.6505 - val_acc: 0.5833\n",
      "Epoch 5/100\n",
      "6/6 [==============================] - 1s 122ms/step - loss: 0.6429 - acc: 0.6833 - val_loss: 0.6896 - val_acc: 0.5500\n",
      "Epoch 6/100\n",
      "6/6 [==============================] - 1s 123ms/step - loss: 0.6591 - acc: 0.6356 - val_loss: 0.6702 - val_acc: 0.5667\n",
      "Epoch 7/100\n",
      "6/6 [==============================] - 1s 123ms/step - loss: 0.6512 - acc: 0.6271 - val_loss: 0.6863 - val_acc: 0.5667\n",
      "Epoch 8/100\n",
      "6/6 [==============================] - 1s 127ms/step - loss: 0.6229 - acc: 0.7000 - val_loss: 0.6529 - val_acc: 0.6333\n",
      "Epoch 9/100\n",
      "6/6 [==============================] - 1s 123ms/step - loss: 0.6342 - acc: 0.6083 - val_loss: 0.6458 - val_acc: 0.6167\n",
      "Epoch 10/100\n",
      "6/6 [==============================] - 1s 123ms/step - loss: 0.5991 - acc: 0.6610 - val_loss: 0.6332 - val_acc: 0.6167\n",
      "Epoch 11/100\n",
      "6/6 [==============================] - 1s 123ms/step - loss: 0.6110 - acc: 0.6667 - val_loss: 0.6919 - val_acc: 0.5500\n",
      "Epoch 12/100\n",
      "6/6 [==============================] - 1s 122ms/step - loss: 0.6062 - acc: 0.6583 - val_loss: 0.6166 - val_acc: 0.6833\n",
      "Epoch 13/100\n",
      "6/6 [==============================] - 1s 122ms/step - loss: 0.5886 - acc: 0.7417 - val_loss: 0.6265 - val_acc: 0.6833\n",
      "Epoch 14/100\n",
      "6/6 [==============================] - 1s 122ms/step - loss: 0.5691 - acc: 0.7034 - val_loss: 0.5613 - val_acc: 0.7833\n",
      "Epoch 15/100\n",
      "6/6 [==============================] - 1s 121ms/step - loss: 0.5597 - acc: 0.7797 - val_loss: 0.5530 - val_acc: 0.7500\n",
      "Epoch 16/100\n",
      "6/6 [==============================] - 1s 126ms/step - loss: 0.5623 - acc: 0.7417 - val_loss: 0.6127 - val_acc: 0.6667\n",
      "Epoch 17/100\n",
      "6/6 [==============================] - 1s 128ms/step - loss: 0.5591 - acc: 0.7458 - val_loss: 0.6244 - val_acc: 0.6167\n",
      "Epoch 18/100\n",
      "6/6 [==============================] - 1s 121ms/step - loss: 0.5579 - acc: 0.7373 - val_loss: 0.6115 - val_acc: 0.6167\n",
      "Epoch 19/100\n",
      "6/6 [==============================] - 1s 126ms/step - loss: 0.5489 - acc: 0.7966 - val_loss: 0.5829 - val_acc: 0.6833\n",
      "Epoch 20/100\n",
      "6/6 [==============================] - 1s 122ms/step - loss: 0.5449 - acc: 0.7833 - val_loss: 0.5799 - val_acc: 0.6667\n",
      "Epoch 21/100\n",
      "6/6 [==============================] - 1s 122ms/step - loss: 0.5282 - acc: 0.8136 - val_loss: 0.5876 - val_acc: 0.7000\n",
      "Epoch 22/100\n",
      "6/6 [==============================] - 1s 121ms/step - loss: 0.5182 - acc: 0.8051 - val_loss: 0.5508 - val_acc: 0.7833\n",
      "Epoch 23/100\n",
      "6/6 [==============================] - 1s 122ms/step - loss: 0.5225 - acc: 0.7750 - val_loss: 0.5812 - val_acc: 0.6500\n",
      "Epoch 24/100\n",
      "6/6 [==============================] - 1s 122ms/step - loss: 0.5098 - acc: 0.8417 - val_loss: 0.5728 - val_acc: 0.6667\n",
      "Epoch 25/100\n",
      "6/6 [==============================] - 1s 121ms/step - loss: 0.4909 - acc: 0.7966 - val_loss: 0.5744 - val_acc: 0.6667\n",
      "Epoch 26/100\n",
      "6/6 [==============================] - 1s 122ms/step - loss: 0.5139 - acc: 0.7881 - val_loss: 0.5670 - val_acc: 0.7333\n",
      "Epoch 27/100\n",
      "6/6 [==============================] - 1s 122ms/step - loss: 0.4932 - acc: 0.8167 - val_loss: 0.5146 - val_acc: 0.8333\n",
      "Epoch 28/100\n",
      "6/6 [==============================] - 1s 122ms/step - loss: 0.4821 - acc: 0.8305 - val_loss: 0.5487 - val_acc: 0.7333\n",
      "Epoch 29/100\n",
      "6/6 [==============================] - 1s 122ms/step - loss: 0.4898 - acc: 0.7881 - val_loss: 0.5619 - val_acc: 0.7167\n",
      "Epoch 30/100\n",
      "6/6 [==============================] - 1s 123ms/step - loss: 0.4713 - acc: 0.8167 - val_loss: 0.5541 - val_acc: 0.7333\n",
      "Epoch 31/100\n",
      "6/6 [==============================] - 1s 123ms/step - loss: 0.4760 - acc: 0.8583 - val_loss: 0.5440 - val_acc: 0.7500\n",
      "Epoch 32/100\n",
      "6/6 [==============================] - 1s 122ms/step - loss: 0.4849 - acc: 0.7833 - val_loss: 0.5785 - val_acc: 0.6833\n",
      "Epoch 33/100\n",
      "6/6 [==============================] - 1s 123ms/step - loss: 0.4462 - acc: 0.8729 - val_loss: 0.5013 - val_acc: 0.8000\n",
      "Epoch 34/100\n",
      "6/6 [==============================] - 1s 124ms/step - loss: 0.4459 - acc: 0.8583 - val_loss: 0.5782 - val_acc: 0.7167\n",
      "Epoch 35/100\n",
      "6/6 [==============================] - 1s 124ms/step - loss: 0.4395 - acc: 0.8417 - val_loss: 0.5195 - val_acc: 0.7833\n",
      "Epoch 36/100\n",
      "6/6 [==============================] - 1s 122ms/step - loss: 0.4318 - acc: 0.8559 - val_loss: 0.5310 - val_acc: 0.8000\n",
      "Epoch 37/100\n",
      "6/6 [==============================] - 1s 123ms/step - loss: 0.4457 - acc: 0.8583 - val_loss: 0.6027 - val_acc: 0.6500\n",
      "Epoch 38/100\n",
      "6/6 [==============================] - 1s 124ms/step - loss: 0.4829 - acc: 0.7797 - val_loss: 0.5038 - val_acc: 0.7500\n",
      "Epoch 39/100\n",
      "6/6 [==============================] - 1s 124ms/step - loss: 0.4639 - acc: 0.8417 - val_loss: 0.5489 - val_acc: 0.6833\n",
      "Epoch 40/100\n",
      "6/6 [==============================] - 1s 128ms/step - loss: 0.4197 - acc: 0.8667 - val_loss: 0.5645 - val_acc: 0.6833\n",
      "Epoch 41/100\n",
      "6/6 [==============================] - 1s 124ms/step - loss: 0.4161 - acc: 0.8917 - val_loss: 0.5674 - val_acc: 0.7333\n",
      "Epoch 42/100\n",
      "6/6 [==============================] - 1s 123ms/step - loss: 0.4014 - acc: 0.8750 - val_loss: 0.5720 - val_acc: 0.7000\n",
      "Epoch 43/100\n",
      "6/6 [==============================] - 1s 124ms/step - loss: 0.3969 - acc: 0.8500 - val_loss: 0.5348 - val_acc: 0.7167\n",
      "Epoch 44/100\n",
      "6/6 [==============================] - 1s 123ms/step - loss: 0.4107 - acc: 0.8583 - val_loss: 0.5312 - val_acc: 0.7667\n",
      "Epoch 45/100\n",
      "6/6 [==============================] - 1s 124ms/step - loss: 0.3947 - acc: 0.8833 - val_loss: 0.5893 - val_acc: 0.6667\n",
      "Epoch 46/100\n",
      "6/6 [==============================] - 1s 123ms/step - loss: 0.4041 - acc: 0.8644 - val_loss: 0.4881 - val_acc: 0.7833\n",
      "Epoch 47/100\n",
      "6/6 [==============================] - 1s 122ms/step - loss: 0.4028 - acc: 0.8220 - val_loss: 0.5371 - val_acc: 0.7000\n",
      "Epoch 48/100\n",
      "6/6 [==============================] - 1s 128ms/step - loss: 0.4074 - acc: 0.8500 - val_loss: 0.5583 - val_acc: 0.6500\n",
      "Epoch 49/100\n",
      "6/6 [==============================] - 1s 122ms/step - loss: 0.4503 - acc: 0.8475 - val_loss: 0.4953 - val_acc: 0.8167\n",
      "Epoch 50/100\n",
      "6/6 [==============================] - 1s 122ms/step - loss: 0.3747 - acc: 0.9000 - val_loss: 0.4851 - val_acc: 0.7833\n",
      "Epoch 51/100\n",
      "6/6 [==============================] - 1s 122ms/step - loss: 0.3921 - acc: 0.8729 - val_loss: 0.5478 - val_acc: 0.7333\n",
      "Epoch 52/100\n",
      "6/6 [==============================] - 1s 127ms/step - loss: 0.3913 - acc: 0.8559 - val_loss: 0.5172 - val_acc: 0.7500\n",
      "Epoch 53/100\n",
      "6/6 [==============================] - 1s 126ms/step - loss: 0.3829 - acc: 0.8644 - val_loss: 0.4786 - val_acc: 0.8500\n",
      "Epoch 54/100\n",
      "6/6 [==============================] - 1s 125ms/step - loss: 0.3565 - acc: 0.9153 - val_loss: 0.5406 - val_acc: 0.7167\n",
      "Epoch 55/100\n",
      "6/6 [==============================] - 1s 124ms/step - loss: 0.3580 - acc: 0.9000 - val_loss: 0.5042 - val_acc: 0.8167\n",
      "Epoch 56/100\n",
      "6/6 [==============================] - 1s 124ms/step - loss: 0.3959 - acc: 0.8475 - val_loss: 0.5091 - val_acc: 0.7833\n",
      "Epoch 57/100\n",
      "6/6 [==============================] - 1s 122ms/step - loss: 0.3555 - acc: 0.8898 - val_loss: 0.5614 - val_acc: 0.7333\n",
      "Epoch 58/100\n",
      "6/6 [==============================] - 1s 123ms/step - loss: 0.3458 - acc: 0.9322 - val_loss: 0.4935 - val_acc: 0.7333\n",
      "Epoch 59/100\n",
      "6/6 [==============================] - 1s 125ms/step - loss: 0.4129 - acc: 0.8333 - val_loss: 0.4427 - val_acc: 0.8333\n",
      "Epoch 60/100\n",
      "6/6 [==============================] - 1s 124ms/step - loss: 0.3847 - acc: 0.8559 - val_loss: 0.5895 - val_acc: 0.7333\n",
      "Epoch 61/100\n",
      "6/6 [==============================] - 1s 125ms/step - loss: 0.3243 - acc: 0.9500 - val_loss: 0.5181 - val_acc: 0.7833\n",
      "Epoch 62/100\n",
      "6/6 [==============================] - 1s 125ms/step - loss: 0.3637 - acc: 0.8583 - val_loss: 0.4935 - val_acc: 0.7833\n",
      "Epoch 63/100\n"
     ]
    },
    {
     "name": "stdout",
     "output_type": "stream",
     "text": [
      "6/6 [==============================] - 1s 128ms/step - loss: 0.3636 - acc: 0.8898 - val_loss: 0.5425 - val_acc: 0.6667\n",
      "Epoch 64/100\n",
      "6/6 [==============================] - 1s 122ms/step - loss: 0.3425 - acc: 0.8983 - val_loss: 0.4923 - val_acc: 0.8000\n",
      "Epoch 65/100\n",
      "6/6 [==============================] - 1s 122ms/step - loss: 0.3402 - acc: 0.8917 - val_loss: 0.5021 - val_acc: 0.7500\n",
      "Epoch 66/100\n",
      "6/6 [==============================] - 1s 126ms/step - loss: 0.2934 - acc: 0.9407 - val_loss: 0.4560 - val_acc: 0.8333\n",
      "Epoch 67/100\n",
      "6/6 [==============================] - 1s 121ms/step - loss: 0.3610 - acc: 0.8729 - val_loss: 0.5115 - val_acc: 0.7333\n",
      "Epoch 68/100\n",
      "6/6 [==============================] - 1s 122ms/step - loss: 0.3458 - acc: 0.9000 - val_loss: 0.4636 - val_acc: 0.7667\n",
      "Epoch 69/100\n",
      "6/6 [==============================] - 1s 125ms/step - loss: 0.3365 - acc: 0.8917 - val_loss: 0.5328 - val_acc: 0.7500\n",
      "Epoch 70/100\n",
      "6/6 [==============================] - 1s 121ms/step - loss: 0.3472 - acc: 0.8983 - val_loss: 0.4354 - val_acc: 0.8000\n",
      "Epoch 71/100\n",
      "6/6 [==============================] - 1s 122ms/step - loss: 0.3511 - acc: 0.9000 - val_loss: 0.4520 - val_acc: 0.7667\n",
      "Epoch 72/100\n",
      "6/6 [==============================] - 1s 127ms/step - loss: 0.3442 - acc: 0.8750 - val_loss: 0.4368 - val_acc: 0.8333\n",
      "Epoch 73/100\n",
      "6/6 [==============================] - 1s 122ms/step - loss: 0.3313 - acc: 0.9333 - val_loss: 0.5142 - val_acc: 0.7333\n",
      "Epoch 74/100\n",
      "6/6 [==============================] - 1s 124ms/step - loss: 0.3545 - acc: 0.8559 - val_loss: 0.4406 - val_acc: 0.8167\n",
      "Epoch 75/100\n",
      "6/6 [==============================] - 1s 125ms/step - loss: 0.3223 - acc: 0.8983 - val_loss: 0.4498 - val_acc: 0.8500\n",
      "Epoch 76/100\n",
      "6/6 [==============================] - 1s 122ms/step - loss: 0.3436 - acc: 0.9083 - val_loss: 0.4884 - val_acc: 0.7833\n",
      "Epoch 77/100\n",
      "6/6 [==============================] - 1s 122ms/step - loss: 0.3414 - acc: 0.8983 - val_loss: 0.5026 - val_acc: 0.7833\n",
      "Epoch 78/100\n",
      "6/6 [==============================] - 1s 122ms/step - loss: 0.3204 - acc: 0.9083 - val_loss: 0.4714 - val_acc: 0.8000\n",
      "Epoch 79/100\n",
      "6/6 [==============================] - 1s 122ms/step - loss: 0.3109 - acc: 0.9237 - val_loss: 0.4499 - val_acc: 0.8167\n",
      "Epoch 80/100\n",
      "6/6 [==============================] - 1s 121ms/step - loss: 0.3383 - acc: 0.8814 - val_loss: 0.4875 - val_acc: 0.7333\n",
      "Epoch 81/100\n",
      "6/6 [==============================] - 1s 122ms/step - loss: 0.2912 - acc: 0.8917 - val_loss: 0.5420 - val_acc: 0.6833\n",
      "Epoch 82/100\n",
      "6/6 [==============================] - 1s 122ms/step - loss: 0.2613 - acc: 0.9407 - val_loss: 0.5220 - val_acc: 0.7667\n",
      "Epoch 83/100\n",
      "6/6 [==============================] - 1s 121ms/step - loss: 0.3597 - acc: 0.8644 - val_loss: 0.4900 - val_acc: 0.8167\n",
      "Epoch 84/100\n",
      "6/6 [==============================] - 1s 122ms/step - loss: 0.2973 - acc: 0.9153 - val_loss: 0.4841 - val_acc: 0.8000\n",
      "Epoch 85/100\n",
      "6/6 [==============================] - 1s 126ms/step - loss: 0.3186 - acc: 0.8833 - val_loss: 0.4816 - val_acc: 0.8333\n",
      "Epoch 86/100\n",
      "6/6 [==============================] - 1s 122ms/step - loss: 0.3020 - acc: 0.8898 - val_loss: 0.4423 - val_acc: 0.8333\n",
      "Epoch 87/100\n",
      "6/6 [==============================] - 1s 122ms/step - loss: 0.3076 - acc: 0.8814 - val_loss: 0.5267 - val_acc: 0.8000\n",
      "Epoch 88/100\n",
      "6/6 [==============================] - 1s 122ms/step - loss: 0.2938 - acc: 0.9083 - val_loss: 0.4517 - val_acc: 0.8000\n",
      "Epoch 89/100\n",
      "6/6 [==============================] - 1s 122ms/step - loss: 0.3264 - acc: 0.8814 - val_loss: 0.4859 - val_acc: 0.8000\n",
      "Epoch 90/100\n",
      "6/6 [==============================] - 1s 122ms/step - loss: 0.3030 - acc: 0.9083 - val_loss: 0.4359 - val_acc: 0.8500\n",
      "Epoch 91/100\n",
      "6/6 [==============================] - 1s 122ms/step - loss: 0.3090 - acc: 0.9083 - val_loss: 0.4960 - val_acc: 0.7333\n",
      "Epoch 92/100\n",
      "6/6 [==============================] - 1s 122ms/step - loss: 0.3044 - acc: 0.8983 - val_loss: 0.4334 - val_acc: 0.8500\n",
      "Epoch 93/100\n",
      "6/6 [==============================] - 1s 121ms/step - loss: 0.2879 - acc: 0.9322 - val_loss: 0.4196 - val_acc: 0.8500\n",
      "Epoch 94/100\n",
      "6/6 [==============================] - 1s 123ms/step - loss: 0.2989 - acc: 0.8750 - val_loss: 0.4452 - val_acc: 0.8333\n",
      "Epoch 95/100\n",
      "6/6 [==============================] - 1s 123ms/step - loss: 0.2488 - acc: 0.9250 - val_loss: 0.4830 - val_acc: 0.7333\n",
      "Epoch 96/100\n",
      "6/6 [==============================] - 1s 127ms/step - loss: 0.2967 - acc: 0.9333 - val_loss: 0.4106 - val_acc: 0.8833\n",
      "Epoch 97/100\n",
      "6/6 [==============================] - 1s 123ms/step - loss: 0.2422 - acc: 0.9407 - val_loss: 0.5549 - val_acc: 0.7167\n",
      "Epoch 98/100\n",
      "5/6 [========================>.....] - ETA: 0s - loss: 0.2418 - acc: 0.9592"
     ]
    }
   ],
   "source": [
    "from keras.preprocessing.image import ImageDataGenerator\n",
    "from tensorflow.keras import optimizers\n",
    "\n",
    "train_datagen = ImageDataGenerator(\n",
    "    rescale=1./255,\n",
    "    rotation_range=20,\n",
    "    width_shift_range=0.1,\n",
    "    height_shift_range=0.1,\n",
    "    shear_range=0.1,\n",
    "    zoom_range=0.1,\n",
    "    horizontal_flip=True,\n",
    "    fill_mode='nearest'\n",
    ")\n",
    "\n",
    "test_datagen = ImageDataGenerator(rescale=1./255)\n",
    "\n",
    "train_generator = train_datagen.flow_from_directory(\n",
    "    train_dir,\n",
    "    target_size=(150,150),\n",
    "    batch_size=20,\n",
    "    class_mode='binary'\n",
    ")\n",
    "\n",
    "validation_generator = test_datagen.flow_from_directory(\n",
    "    validation_dir,\n",
    "    target_size=(150,150),\n",
    "    batch_size=20,\n",
    "    class_mode='binary'\n",
    ")\n",
    "\n",
    "model.compile(loss='binary_crossentropy',\n",
    "             optimizer=optimizers.RMSprop(lr=2e-5),\n",
    "             metrics=['acc'])\n",
    "\n",
    "history = model.fit_generator(train_generator,\n",
    "                              steps_per_epoch=6,\n",
    "                              epochs=100,\n",
    "                              validation_data=validation_generator,\n",
    "                             validation_steps=3)"
   ]
  },
  {
   "cell_type": "code",
   "execution_count": null,
   "id": "e8799d8c",
   "metadata": {},
   "outputs": [],
   "source": [
    "import matplotlib.pyplot as plt\n",
    "\n",
    "acc = history.history['acc']\n",
    "val_acc = history.history['val_acc']\n",
    "loss = history.history['loss']\n",
    "val_loss = history.history['val_loss']\n",
    "\n",
    "epochs = range(1,len(acc) + 1)\n",
    "\n",
    "plt.plot(epochs,acc,'bo',label='Training acc')\n",
    "plt.plot(epochs,val_acc,'b',label='Validation acc')\n",
    "plt.title('Training and validation accuracy')\n",
    "plt.legend()\n",
    "\n",
    "plt.figure()\n",
    "\n",
    "plt.plot(epochs,loss,'bo',label='training loss')\n",
    "plt.plot(epochs, val_loss,'b',label='validation loss')\n",
    "plt.title('Training and validation loss')\n",
    "\n",
    "plt.show()"
   ]
  },
  {
   "cell_type": "code",
   "execution_count": null,
   "id": "64fd96bb",
   "metadata": {},
   "outputs": [],
   "source": [
    "#특정 층까지 모든 층 동결하기\n",
    "conv_base.trainable = True\n",
    "\n",
    "set_trainable = False\n",
    "for layer in conv_base.layers:\n",
    "    if layer.name == 'block5_conv1':\n",
    "        set_trainable = True\n",
    "    if set_trainable:\n",
    "        layer.trainable = True\n",
    "    else:\n",
    "        layer.trainable = False"
   ]
  },
  {
   "cell_type": "code",
   "execution_count": null,
   "id": "4f5c46ff",
   "metadata": {},
   "outputs": [],
   "source": [
    "#모델 미세조정\n",
    "\n",
    "model.compile(loss='binary_crossentropy', optimizer = optimizers.RMSprop(lr=1e-5),metrics=['acc'])\n",
    "\n",
    "history = model.fit_generator(train_generator,\n",
    "                              steps_per_epoch=6,\n",
    "                              epochs=100,\n",
    "                              validation_data=validation_generator,\n",
    "                             validation_steps=3)"
   ]
  },
  {
   "cell_type": "code",
   "execution_count": null,
   "id": "e0357675",
   "metadata": {},
   "outputs": [],
   "source": [
    "import matplotlib.pyplot as plt\n",
    "\n",
    "acc = history.history['acc']\n",
    "val_acc = history.history['val_acc']\n",
    "loss = history.history['loss']\n",
    "val_loss = history.history['val_loss']\n",
    "\n",
    "epochs = range(1,len(acc) + 1)\n",
    "\n",
    "plt.plot(epochs,acc,'bo',label='Training acc')\n",
    "plt.plot(epochs,val_acc,'b',label='Validation acc')\n",
    "plt.title('Training and validation accuracy')\n",
    "plt.legend()\n",
    "\n",
    "plt.figure()\n",
    "\n",
    "plt.plot(epochs,loss,'bo',label='training loss')\n",
    "plt.plot(epochs, val_loss,'b',label='validation loss')\n",
    "plt.title('Training and validation loss')\n",
    "\n",
    "plt.show()"
   ]
  },
  {
   "cell_type": "code",
   "execution_count": 24,
   "id": "e851358d",
   "metadata": {},
   "outputs": [
    {
     "data": {
      "image/png": "[encoded data removed]",
      "text/plain": [
       "<Figure size 432x288 with 1 Axes>"
      ]
     },
     "metadata": {
      "needs_background": "light"
     },
     "output_type": "display_data"
    },
    {
     "data": {
      "image/png": "[encoded data removed]",
      "text/plain": [
       "<Figure size 432x288 with 1 Axes>"
      ]
     },
     "metadata": {
      "needs_background": "light"
     },
     "output_type": "display_data"
    }
   ],
   "source": [
    "#지수평균이동으로 부드러운 그래프\n",
    "def smooth_curve(points, factor=0.8): \n",
    "    smoothed_points = []\n",
    "    for point in points: \n",
    "        if smoothed_points: # not empty\n",
    "            previous = smoothed_points[-1]\n",
    "            smoothed_points.append(previous * factor + point * (1 - factor)) \n",
    "        else:\n",
    "            smoothed_points.append(point) \n",
    "    return smoothed_points\n",
    "\n",
    "plt.plot(epochs,smooth_curve(acc),'bo',label='smoothed training acc')\n",
    "plt.plot(epochs,smooth_curve(val_acc),'b',label='smoothed validation acc')\n",
    "plt.title('Training and validation accuracy')\n",
    "plt.legend()\n",
    "\n",
    "plt.figure()\n",
    "\n",
    "plt.plot(epochs,smooth_curve(loss),'bo',label='smoothed training loss')\n",
    "plt.plot(epochs,smooth_curve(val_loss),'b',label='smoothed validation loss')\n",
    "plt.title('Trainging and validation loss')\n",
    "plt.legend()\n",
    "\n",
    "plt.show()"
   ]
  },
  {
   "cell_type": "code",
   "execution_count": 1,
   "id": "87c40e5b",
   "metadata": {},
   "outputs": [
    {
     "ename": "NameError",
     "evalue": "name 'ImageDataGenerator' is not defined",
     "output_type": "error",
     "traceback": [
      "\u001b[0;31m---------------------------------------------------------------------------\u001b[0m",
      "\u001b[0;31mNameError\u001b[0m                                 Traceback (most recent call last)",
      "Input \u001b[0;32mIn [1]\u001b[0m, in \u001b[0;36m<cell line: 8>\u001b[0;34m()\u001b[0m\n\u001b[1;32m      5\u001b[0m base_dir \u001b[38;5;241m=\u001b[39m \u001b[38;5;124m'\u001b[39m\u001b[38;5;124m/Users/jw1010110/AI/car-dataset/evaluate/Jaguar_XF_2011_52_18_380_50_8_75_57_195_16_RWD_5_4_4dr_wQE.jpg\u001b[39m\u001b[38;5;124m'\u001b[39m\n\u001b[1;32m      6\u001b[0m base_dir1 \u001b[38;5;241m=\u001b[39m \u001b[38;5;124m'\u001b[39m\u001b[38;5;124m/Users/jw1010110/AI/car-dataset/evaluate\u001b[39m\u001b[38;5;124m'\u001b[39m\n\u001b[0;32m----> 8\u001b[0m test_datagen \u001b[38;5;241m=\u001b[39m\u001b[43mImageDataGenerator\u001b[49m(rescale\u001b[38;5;241m=\u001b[39m\u001b[38;5;241m1.\u001b[39m\u001b[38;5;241m/\u001b[39m\u001b[38;5;241m255\u001b[39m)\n\u001b[1;32m      9\u001b[0m test_generator \u001b[38;5;241m=\u001b[39mtest_datagen\u001b[38;5;241m.\u001b[39mflow_from_directory(base_dir1,target_size\u001b[38;5;241m=\u001b[39m(\u001b[38;5;241m150\u001b[39m,\u001b[38;5;241m150\u001b[39m),batch_size\u001b[38;5;241m=\u001b[39m\u001b[38;5;241m10\u001b[39m,class_mode\u001b[38;5;241m=\u001b[39m\u001b[38;5;124m'\u001b[39m\u001b[38;5;124mbinary\u001b[39m\u001b[38;5;124m'\u001b[39m)\n\u001b[1;32m     10\u001b[0m test_loss, test_acc \u001b[38;5;241m=\u001b[39mmodel\u001b[38;5;241m.\u001b[39mevaluate(test_generator,steps\u001b[38;5;241m=\u001b[39m\u001b[38;5;241m1\u001b[39m)\n",
      "\u001b[0;31mNameError\u001b[0m: name 'ImageDataGenerator' is not defined"
     ]
    }
   ],
   "source": [
    "from keras.preprocessing import image\n",
    "from keras.applications.vgg16 import preprocess_input, decode_predictions\n",
    "from tensorflow.keras.applications.resnet50 import decode_predictions\n",
    "import numpy as np\n",
    "base_dir = '/Users/jw1010110/AI/car-dataset/evaluate/Jaguar_XF_2011_52_18_380_50_8_75_57_195_16_RWD_5_4_4dr_wQE.jpg'\n",
    "base_dir1 = '/Users/jw1010110/AI/car-dataset/evaluate'\n",
    "\n",
    "test_datagen =ImageDataGenerator(rescale=1./255)\n",
    "test_generator =test_datagen.flow_from_directory(base_dir1,target_size=(150,150),batch_size=10,class_mode='binary')\n",
    "test_loss, test_acc =model.evaluate(test_generator,steps=1)\n",
    "print(test_acc)\n",
    "\n",
    "# img = image.load_img(base_dir, target_size=(150,150))\n",
    "# x = image.img_to_array(img)\n",
    "# x = np.expand_dims(x,axis=0)\n",
    "\n",
    "# x = preprocess_input(x)\n",
    "\n",
    "# results = model.predict(x)\n",
    "# #print(results)\n",
    "# print(decode_predictions(results))"
   ]
  },
  {
   "cell_type": "code",
   "execution_count": null,
   "id": "8530968f",
   "metadata": {},
   "outputs": [],
   "source": []
  }
 ],
 "metadata": {
  "kernelspec": {
   "display_name": "Python 3 (ipykernel)",
   "language": "python",
   "name": "python3"
  },
  "language_info": {
   "codemirror_mode": {
    "name": "ipython",
    "version": 3
   },
   "file_extension": ".py",
   "mimetype": "text/x-python",
   "name": "python",
   "nbconvert_exporter": "python",
   "pygments_lexer": "ipython3",
   "version": "3.9.0"
  }
 },
 "nbformat": 4,
 "nbformat_minor": 5
}
