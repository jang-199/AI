{
 "cells": [
  {
   "cell_type": "code",
   "execution_count": 1,
   "id": "83d1b5ea",
   "metadata": {},
   "outputs": [
    {
     "name": "stdout",
     "output_type": "stream",
     "text": [
      "1000\n",
      "1000\n",
      "500\n"
     ]
    }
   ],
   "source": [
    "#디렉터리 생성 후 경로 변수만 필요햘 떄\n",
    "import os\n",
    "original_dataset_dir = '/Users/jw1010110/AI/dogs-vs-cats/train'\n",
    "base_dir = '/Users/jw1010110/AI/dogs-vs-cats/cats_and_dogs_small'\n",
    "\n",
    "train_dir = os.path.join(base_dir,'train')\n",
    "validation_dir = os.path.join(base_dir,'validation')\n",
    "test_dir = os.path.join(base_dir,'test')\n",
    "train_cats_dir = os.path.join(train_dir,'cats')\n",
    "train_dogs_dir = os.path.join(train_dir,'dogs')\n",
    "validation_cats_dir = os.path.join(validation_dir,'cats')\n",
    "validation_dogs_dir = os.path.join(validation_dir,'dogs')\n",
    "test_cats_dir = os.path.join(test_dir,'cats')\n",
    "test_dogs_dir = os.path.join(test_dir,'dogs')\n",
    "\n",
    "train_dir = os.path.join(base_dir,'train')\n",
    "validation_dir=os.path.join(base_dir,'validation')\n",
    "test_dir = os.path.join(base_dir,'test')\n",
    "\n",
    "print(len(os.listdir(train_dogs_dir)))\n",
    "print(len(os.listdir(train_cats_dir)))\n",
    "print(len(os.listdir(validation_dogs_dir)))\n"
   ]
  },
  {
   "cell_type": "code",
   "execution_count": 2,
   "id": "29c50781",
   "metadata": {},
   "outputs": [
    {
     "name": "stdout",
     "output_type": "stream",
     "text": [
      "Metal device set to: Apple M1 Pro\n"
     ]
    },
    {
     "name": "stderr",
     "output_type": "stream",
     "text": [
      "2022-05-18 16:26:27.026884: I tensorflow/core/common_runtime/pluggable_device/pluggable_device_factory.cc:305] Could not identify NUMA node of platform GPU ID 0, defaulting to 0. Your kernel may not have been built with NUMA support.\n",
      "2022-05-18 16:26:27.027009: I tensorflow/core/common_runtime/pluggable_device/pluggable_device_factory.cc:271] Created TensorFlow device (/job:localhost/replica:0/task:0/device:GPU:0 with 0 MB memory) -> physical PluggableDevice (device: 0, name: METAL, pci bus id: <undefined>)\n"
     ]
    },
    {
     "name": "stdout",
     "output_type": "stream",
     "text": [
      "Model: \"vgg16\"\n",
      "_________________________________________________________________\n",
      " Layer (type)                Output Shape              Param #   \n",
      "=================================================================\n",
      " input_1 (InputLayer)        [(None, 150, 150, 3)]     0         \n",
      "                                                                 \n",
      " block1_conv1 (Conv2D)       (None, 150, 150, 64)      1792      \n",
      "                                                                 \n",
      " block1_conv2 (Conv2D)       (None, 150, 150, 64)      36928     \n",
      "                                                                 \n",
      " block1_pool (MaxPooling2D)  (None, 75, 75, 64)        0         \n",
      "                                                                 \n",
      " block2_conv1 (Conv2D)       (None, 75, 75, 128)       73856     \n",
      "                                                                 \n",
      " block2_conv2 (Conv2D)       (None, 75, 75, 128)       147584    \n",
      "                                                                 \n",
      " block2_pool (MaxPooling2D)  (None, 37, 37, 128)       0         \n",
      "                                                                 \n",
      " block3_conv1 (Conv2D)       (None, 37, 37, 256)       295168    \n",
      "                                                                 \n",
      " block3_conv2 (Conv2D)       (None, 37, 37, 256)       590080    \n",
      "                                                                 \n",
      " block3_conv3 (Conv2D)       (None, 37, 37, 256)       590080    \n",
      "                                                                 \n",
      " block3_pool (MaxPooling2D)  (None, 18, 18, 256)       0         \n",
      "                                                                 \n",
      " block4_conv1 (Conv2D)       (None, 18, 18, 512)       1180160   \n",
      "                                                                 \n",
      " block4_conv2 (Conv2D)       (None, 18, 18, 512)       2359808   \n",
      "                                                                 \n",
      " block4_conv3 (Conv2D)       (None, 18, 18, 512)       2359808   \n",
      "                                                                 \n",
      " block4_pool (MaxPooling2D)  (None, 9, 9, 512)         0         \n",
      "                                                                 \n",
      " block5_conv1 (Conv2D)       (None, 9, 9, 512)         2359808   \n",
      "                                                                 \n",
      " block5_conv2 (Conv2D)       (None, 9, 9, 512)         2359808   \n",
      "                                                                 \n",
      " block5_conv3 (Conv2D)       (None, 9, 9, 512)         2359808   \n",
      "                                                                 \n",
      " block5_pool (MaxPooling2D)  (None, 4, 4, 512)         0         \n",
      "                                                                 \n",
      "=================================================================\n",
      "Total params: 14,714,688\n",
      "Trainable params: 14,714,688\n",
      "Non-trainable params: 0\n",
      "_________________________________________________________________\n"
     ]
    }
   ],
   "source": [
    "from tensorflow.keras.applications import VGG16 #합성곱층 13개 + 완전연결층 3개\n",
    "\n",
    "conv_base = VGG16(weights = 'imagenet', #모델 초기화할 체크포인트 지정\n",
    "         include_top = False, #네트워크 최상위 완전 연결 분류기 보함여부 cf.True라면 input_shape이 원본과 동일한(244,244,3)이어야함\n",
    "                  input_shape = (150,150,3)) #네트워크에 주입할 이미지 텐서의 크기\n",
    "\n",
    "conv_base.summary()\n",
    "#number of weight parameter of the cnn = Size(width) of kernels(filter) used in the Conv layer ^2 \n",
    "#                                        * Number of channels of the input image\n",
    "#                                        * Number of kernels\n",
    "\n",
    "#Number of biases of the Conv layer = Number of kernels(filter)\n",
    "\n",
    "#Number of parameters of the Conv layer = number of weight parameter of the cnn \n",
    "#                                        + Number of biases of the Conv layer"
   ]
  },
  {
   "cell_type": "code",
   "execution_count": 3,
   "id": "870295a7",
   "metadata": {},
   "outputs": [
    {
     "name": "stdout",
     "output_type": "stream",
     "text": [
      "Found 2000 images belonging to 2 classes.\n"
     ]
    },
    {
     "name": "stderr",
     "output_type": "stream",
     "text": [
      "2022-05-18 16:26:27.374777: W tensorflow/core/platform/profile_utils/cpu_utils.cc:128] Failed to get CPU frequency: 0 Hz\n",
      "2022-05-18 16:26:27.427125: I tensorflow/core/grappler/optimizers/custom_graph_optimizer_registry.cc:113] Plugin optimizer for device_type GPU is enabled.\n"
     ]
    },
    {
     "name": "stdout",
     "output_type": "stream",
     "text": [
      "Found 1000 images belonging to 2 classes.\n",
      "Found 1000 images belonging to 2 classes.\n"
     ]
    }
   ],
   "source": [
    "#사전 훈련된 합성곱 기반 층을 사용한 특성 추출\n",
    "import numpy as np\n",
    "from keras.preprocessing.image import ImageDataGenerator\n",
    "\n",
    "datagen = ImageDataGenerator(rescale = 1./255)\n",
    "batch_size = 20\n",
    "\n",
    "def extract_features(directory,sample_count):\n",
    "    features = np.zeros(shape=(sample_count,4,4,512))\n",
    "    labels = np.zeros(shape=(sample_count))\n",
    "    #flow_from_directory 반환은 (x,y)튜플  \n",
    "    #x는 (배치 크기, *표적 크기, 채널)의 형태의 이미지 배치로 구성된 numpy 배열  \n",
    "    #y는 그에 대응하는 라벨로 이루어진 numpy 배열\n",
    "    generator = datagen.flow_from_directory(\n",
    "        directory,\n",
    "        target_size=(150,150),\n",
    "        batch_size = batch_size,\n",
    "        class_mode='binary')\n",
    "    \n",
    "    i=0\n",
    "    for inputs_batch, labels_batch in generator:\n",
    "        features_batch = conv_base.predict(inputs_batch)\n",
    "        features[i*batch_size : (i+1) * batch_size] = features_batch\n",
    "        labels[i * batch_size : (i+1) * batch_size] = labels_batch\n",
    "        i+=1\n",
    "        if i * batch_size >= sample_count:\n",
    "            break\n",
    "        return features,labels\n",
    "    \n",
    "train_features, train_labels = extract_features(train_dir,2000)\n",
    "validation_features, validation_labels = extract_features(validation_dir,1000)\n",
    "test_features, test_labels = extract_features(test_dir,1000)"
   ]
  },
  {
   "cell_type": "code",
   "execution_count": 4,
   "id": "14adb4e9",
   "metadata": {},
   "outputs": [],
   "source": [
    "#추출된 특성 크기는 (samples,4,4,512)이다. cf.4*4*512=8192. 완전 연결 분휴기에 주입하기 위해 (samples,8192)로 펼쳐야함\n",
    "\n",
    "train_features = np.reshape(train_features,(2000,4*4*512))\n",
    "validation_features = np.reshape(validation_features,(1000,4*4*512))\n",
    "test_features = np.reshape(test_features,(1000,4*4*512))"
   ]
  },
  {
   "cell_type": "code",
   "execution_count": 5,
   "id": "1292e24d",
   "metadata": {},
   "outputs": [
    {
     "name": "stdout",
     "output_type": "stream",
     "text": [
      "Epoch 1/30\n"
     ]
    },
    {
     "name": "stderr",
     "output_type": "stream",
     "text": [
      "/Users/jw1010110/miniforge3/envs/tensorflow_gpu/lib/python3.9/site-packages/keras/optimizer_v2/rmsprop.py:130: UserWarning: The `lr` argument is deprecated, use `learning_rate` instead.\n",
      "  super(RMSprop, self).__init__(name, **kwargs)\n"
     ]
    },
    {
     "name": "stdout",
     "output_type": "stream",
     "text": [
      " 11/100 [==>...........................] - ETA: 0s - loss: 0.6887 - acc: 1.0000 "
     ]
    },
    {
     "name": "stderr",
     "output_type": "stream",
     "text": [
      "2022-05-18 16:26:28.032922: I tensorflow/core/grappler/optimizers/custom_graph_optimizer_registry.cc:113] Plugin optimizer for device_type GPU is enabled.\n"
     ]
    },
    {
     "name": "stdout",
     "output_type": "stream",
     "text": [
      "100/100 [==============================] - 1s 8ms/step - loss: 0.6903 - acc: 0.9960 - val_loss: 0.6881 - val_acc: 0.9860\n",
      "Epoch 2/30\n",
      " 10/100 [==>...........................] - ETA: 0s - loss: 0.6849 - acc: 1.0000"
     ]
    },
    {
     "name": "stderr",
     "output_type": "stream",
     "text": [
      "2022-05-18 16:26:28.762505: I tensorflow/core/grappler/optimizers/custom_graph_optimizer_registry.cc:113] Plugin optimizer for device_type GPU is enabled.\n"
     ]
    },
    {
     "name": "stdout",
     "output_type": "stream",
     "text": [
      "100/100 [==============================] - 1s 6ms/step - loss: 0.6821 - acc: 0.9945 - val_loss: 0.6824 - val_acc: 0.9850\n",
      "Epoch 3/30\n",
      "100/100 [==============================] - 1s 6ms/step - loss: 0.6714 - acc: 0.9970 - val_loss: 0.6762 - val_acc: 0.9850\n",
      "Epoch 4/30\n",
      "100/100 [==============================] - 1s 6ms/step - loss: 0.6627 - acc: 0.9970 - val_loss: 0.6687 - val_acc: 0.9850\n",
      "Epoch 5/30\n",
      "100/100 [==============================] - 1s 6ms/step - loss: 0.6528 - acc: 0.9990 - val_loss: 0.6586 - val_acc: 0.9860\n",
      "Epoch 6/30\n",
      "100/100 [==============================] - 1s 6ms/step - loss: 0.6421 - acc: 0.9995 - val_loss: 0.6516 - val_acc: 0.9860\n",
      "Epoch 7/30\n",
      "100/100 [==============================] - 1s 6ms/step - loss: 0.6330 - acc: 0.9995 - val_loss: 0.6454 - val_acc: 0.9860\n",
      "Epoch 8/30\n",
      "100/100 [==============================] - 1s 7ms/step - loss: 0.6228 - acc: 1.0000 - val_loss: 0.6367 - val_acc: 0.9860\n",
      "Epoch 9/30\n",
      "100/100 [==============================] - 1s 6ms/step - loss: 0.6120 - acc: 1.0000 - val_loss: 0.6234 - val_acc: 0.9860\n",
      "Epoch 10/30\n",
      "100/100 [==============================] - 1s 6ms/step - loss: 0.6014 - acc: 1.0000 - val_loss: 0.6145 - val_acc: 0.9860\n",
      "Epoch 11/30\n",
      "100/100 [==============================] - 1s 6ms/step - loss: 0.5903 - acc: 1.0000 - val_loss: 0.6035 - val_acc: 0.9870\n",
      "Epoch 12/30\n",
      "100/100 [==============================] - 1s 6ms/step - loss: 0.5794 - acc: 1.0000 - val_loss: 0.5969 - val_acc: 0.9860\n",
      "Epoch 13/30\n",
      "100/100 [==============================] - 1s 6ms/step - loss: 0.5685 - acc: 0.9995 - val_loss: 0.5826 - val_acc: 0.9890\n",
      "Epoch 14/30\n",
      "100/100 [==============================] - 1s 6ms/step - loss: 0.5570 - acc: 1.0000 - val_loss: 0.5721 - val_acc: 0.9880\n",
      "Epoch 15/30\n",
      "100/100 [==============================] - 1s 6ms/step - loss: 0.5453 - acc: 1.0000 - val_loss: 0.5584 - val_acc: 0.9890\n",
      "Epoch 16/30\n",
      "100/100 [==============================] - 1s 6ms/step - loss: 0.5335 - acc: 1.0000 - val_loss: 0.5526 - val_acc: 0.9880\n",
      "Epoch 17/30\n",
      "100/100 [==============================] - 1s 6ms/step - loss: 0.5217 - acc: 1.0000 - val_loss: 0.5422 - val_acc: 0.9880\n",
      "Epoch 18/30\n",
      "100/100 [==============================] - 1s 6ms/step - loss: 0.5098 - acc: 1.0000 - val_loss: 0.5281 - val_acc: 0.9880\n",
      "Epoch 19/30\n",
      "100/100 [==============================] - 1s 6ms/step - loss: 0.4979 - acc: 1.0000 - val_loss: 0.5177 - val_acc: 0.9880\n",
      "Epoch 20/30\n",
      "100/100 [==============================] - 1s 6ms/step - loss: 0.4855 - acc: 1.0000 - val_loss: 0.5029 - val_acc: 0.9900\n",
      "Epoch 21/30\n",
      "100/100 [==============================] - 1s 6ms/step - loss: 0.4731 - acc: 1.0000 - val_loss: 0.4923 - val_acc: 0.9890\n",
      "Epoch 22/30\n",
      "100/100 [==============================] - 1s 6ms/step - loss: 0.4607 - acc: 1.0000 - val_loss: 0.4850 - val_acc: 0.9880\n",
      "Epoch 23/30\n",
      "100/100 [==============================] - 1s 6ms/step - loss: 0.4483 - acc: 1.0000 - val_loss: 0.4684 - val_acc: 0.9900\n",
      "Epoch 24/30\n",
      "100/100 [==============================] - 1s 6ms/step - loss: 0.4360 - acc: 1.0000 - val_loss: 0.4568 - val_acc: 0.9900\n",
      "Epoch 25/30\n",
      "100/100 [==============================] - 1s 6ms/step - loss: 0.4236 - acc: 1.0000 - val_loss: 0.4475 - val_acc: 0.9900\n",
      "Epoch 26/30\n",
      "100/100 [==============================] - 1s 6ms/step - loss: 0.4112 - acc: 1.0000 - val_loss: 0.4393 - val_acc: 0.9880\n",
      "Epoch 27/30\n",
      "100/100 [==============================] - 1s 6ms/step - loss: 0.3989 - acc: 1.0000 - val_loss: 0.4285 - val_acc: 0.9880\n",
      "Epoch 28/30\n",
      "100/100 [==============================] - 1s 6ms/step - loss: 0.3866 - acc: 1.0000 - val_loss: 0.4166 - val_acc: 0.9880\n",
      "Epoch 29/30\n",
      "100/100 [==============================] - 1s 6ms/step - loss: 0.3744 - acc: 1.0000 - val_loss: 0.4017 - val_acc: 0.9890\n",
      "Epoch 30/30\n",
      "100/100 [==============================] - 1s 6ms/step - loss: 0.3622 - acc: 1.0000 - val_loss: 0.3889 - val_acc: 0.9900\n"
     ]
    }
   ],
   "source": [
    "#완전 연결 분류기를 정의하고 훈련\n",
    "from keras import models\n",
    "from keras import layers\n",
    "from tensorflow.keras import optimizers\n",
    "\n",
    "model = models.Sequential()\n",
    "model.add(layers.Dense(256,activation='relu',input_dim=4*4*512))\n",
    "model.add(layers.Dropout(0.5))\n",
    "model.add(layers.Dense(1,activation='sigmoid'))\n",
    "model.compile(optimizer=optimizers.RMSprop(lr=2e-5),loss='binary_crossentropy',metrics=['acc'])\n",
    "history = model.fit(\n",
    "    train_features,\n",
    "    train_labels,\n",
    "    epochs=30,\n",
    "    batch_size=20,\n",
    "    validation_data=(validation_features,validation_labels))"
   ]
  },
  {
   "cell_type": "code",
   "execution_count": 22,
   "id": "31280bca",
   "metadata": {},
   "outputs": [
    {
     "data": {
      "image/png": "[encoded data removed]",
      "text/plain": [
       "<Figure size 432x288 with 1 Axes>"
      ]
     },
     "metadata": {
      "needs_background": "light"
     },
     "output_type": "display_data"
    },
    {
     "data": {
      "image/png": "[encoded data removed]",
      "text/plain": [
       "<Figure size 432x288 with 1 Axes>"
      ]
     },
     "metadata": {
      "needs_background": "light"
     },
     "output_type": "display_data"
    }
   ],
   "source": [
    "import matplotlib.pyplot as plt\n",
    "\n",
    "acc = history.history['acc']\n",
    "val_acc = history.history['val_acc']\n",
    "loss = history.history['loss']\n",
    "val_loss = history.history['val_loss']\n",
    "\n",
    "epochs = range(1,len(acc) + 1)\n",
    "\n",
    "plt.plot(epochs,acc,'bo',label='Training acc')\n",
    "plt.plot(epochs,val_acc,'b',label='validation acc')\n",
    "plt.title('Training and validation accuracy')\n",
    "\n",
    "plt.legend()\n",
    "\n",
    "plt.figure()\n",
    "\n",
    "plt.plot(epochs,loss,'bo',label='Training acc')\n",
    "plt.plot(epochs,val_loss,'b',label='validation acc')\n",
    "plt.title('Training and validation loss')\n",
    "plt.legend()\n",
    "\n",
    "plt.show()"
   ]
  },
  {
   "cell_type": "markdown",
   "id": "6523a031",
   "metadata": {},
   "source": [
    "데이터증식을 사용한 특성 추출"
   ]
  },
  {
   "cell_type": "code",
   "execution_count": 7,
   "id": "fc10e11f",
   "metadata": {},
   "outputs": [
    {
     "name": "stdout",
     "output_type": "stream",
     "text": [
      "Model: \"sequential_1\"\n",
      "_________________________________________________________________\n",
      " Layer (type)                Output Shape              Param #   \n",
      "=================================================================\n",
      " vgg16 (Functional)          (None, 4, 4, 512)         14714688  \n",
      "                                                                 \n",
      " flatten (Flatten)           (None, 8192)              0         \n",
      "                                                                 \n",
      " dense_2 (Dense)             (None, 256)               2097408   \n",
      "                                                                 \n",
      " dense_3 (Dense)             (None, 1)                 257       \n",
      "                                                                 \n",
      "=================================================================\n",
      "Total params: 16,812,353\n",
      "Trainable params: 16,812,353\n",
      "Non-trainable params: 0\n",
      "_________________________________________________________________\n"
     ]
    }
   ],
   "source": [
    "#합성곱 기반 층 위에 완전 연결 분류기 추가하기\n",
    "\n",
    "model = models.Sequential()\n",
    "model.add(conv_base)\n",
    "model.add(layers.Flatten())\n",
    "model.add(layers.Dense(256,activation='relu'))\n",
    "model.add(layers.Dense(1,activation='sigmoid'))\n",
    "\n",
    "model.summary()"
   ]
  },
  {
   "cell_type": "code",
   "execution_count": 8,
   "id": "0669a766",
   "metadata": {},
   "outputs": [
    {
     "name": "stdout",
     "output_type": "stream",
     "text": [
      "conv_base 동결하기 전 훈련되는 가중치 수 30\n",
      "conv_base 동결한 후 훈련되는 가중치 수 4\n"
     ]
    }
   ],
   "source": [
    "print('conv_base 동결하기 전 훈련되는 가중치 수',len(model.trainable_weights))\n",
    "conv_base.trainable = False\n",
    "print('conv_base 동결한 후 훈련되는 가중치 수',len(model.trainable_weights))"
   ]
  },
  {
   "cell_type": "code",
   "execution_count": 19,
   "id": "be6dc00e",
   "metadata": {},
   "outputs": [
    {
     "name": "stdout",
     "output_type": "stream",
     "text": [
      "Found 2000 images belonging to 2 classes.\n",
      "Found 1000 images belonging to 2 classes.\n",
      "Epoch 1/30\n"
     ]
    },
    {
     "name": "stderr",
     "output_type": "stream",
     "text": [
      "/var/folders/pn/m2bqkk014sv8108lk7tl4xy80000gn/T/ipykernel_19487/372503109.py:30: UserWarning: `Model.fit_generator` is deprecated and will be removed in a future version. Please use `Model.fit`, which supports generators.\n",
      "  history = model.fit_generator(\n",
      "2022-05-18 17:26:23.379375: I tensorflow/core/grappler/optimizers/custom_graph_optimizer_registry.cc:113] Plugin optimizer for device_type GPU is enabled.\n",
      "2022-05-18 17:26:32.854854: I tensorflow/core/grappler/optimizers/custom_graph_optimizer_registry.cc:113] Plugin optimizer for device_type GPU is enabled.\n"
     ]
    },
    {
     "name": "stdout",
     "output_type": "stream",
     "text": [
      "100/100 - 14s - loss: 0.0401 - acc: 0.9925 - val_loss: 0.3578 - val_acc: 0.9270 - 14s/epoch - 136ms/step\n",
      "Epoch 2/30\n",
      "100/100 - 12s - loss: 0.0168 - acc: 0.9950 - val_loss: 0.4046 - val_acc: 0.9270 - 12s/epoch - 124ms/step\n",
      "Epoch 3/30\n",
      "100/100 - 12s - loss: 0.0357 - acc: 0.9950 - val_loss: 0.3754 - val_acc: 0.9200 - 12s/epoch - 125ms/step\n",
      "Epoch 4/30\n",
      "100/100 - 12s - loss: 0.0166 - acc: 0.9955 - val_loss: 0.4090 - val_acc: 0.9230 - 12s/epoch - 125ms/step\n",
      "Epoch 5/30\n",
      "100/100 - 13s - loss: 0.0098 - acc: 0.9970 - val_loss: 0.3936 - val_acc: 0.9330 - 13s/epoch - 125ms/step\n",
      "Epoch 6/30\n",
      "100/100 - 12s - loss: 0.0078 - acc: 0.9975 - val_loss: 0.4685 - val_acc: 0.9210 - 12s/epoch - 125ms/step\n",
      "Epoch 7/30\n",
      "100/100 - 12s - loss: 0.0024 - acc: 0.9995 - val_loss: 0.3819 - val_acc: 0.9400 - 12s/epoch - 125ms/step\n",
      "Epoch 8/30\n",
      "100/100 - 13s - loss: 0.0056 - acc: 0.9980 - val_loss: 0.3935 - val_acc: 0.9310 - 13s/epoch - 126ms/step\n",
      "Epoch 9/30\n",
      "100/100 - 13s - loss: 0.0146 - acc: 0.9970 - val_loss: 0.4060 - val_acc: 0.9300 - 13s/epoch - 125ms/step\n",
      "Epoch 10/30\n",
      "100/100 - 13s - loss: 0.0057 - acc: 0.9975 - val_loss: 0.4378 - val_acc: 0.9300 - 13s/epoch - 125ms/step\n",
      "Epoch 11/30\n",
      "100/100 - 13s - loss: 0.0172 - acc: 0.9955 - val_loss: 0.4099 - val_acc: 0.9220 - 13s/epoch - 126ms/step\n",
      "Epoch 12/30\n",
      "100/100 - 12s - loss: 0.0048 - acc: 0.9985 - val_loss: 0.3692 - val_acc: 0.9340 - 12s/epoch - 125ms/step\n",
      "Epoch 13/30\n",
      "100/100 - 12s - loss: 0.0149 - acc: 0.9980 - val_loss: 0.4300 - val_acc: 0.9320 - 12s/epoch - 125ms/step\n",
      "Epoch 14/30\n",
      "100/100 - 13s - loss: 0.0124 - acc: 0.9975 - val_loss: 0.4425 - val_acc: 0.9300 - 13s/epoch - 125ms/step\n",
      "Epoch 15/30\n",
      "100/100 - 12s - loss: 0.0052 - acc: 0.9990 - val_loss: 0.4526 - val_acc: 0.9360 - 12s/epoch - 125ms/step\n",
      "Epoch 16/30\n",
      "100/100 - 12s - loss: 0.0031 - acc: 0.9995 - val_loss: 0.4874 - val_acc: 0.9260 - 12s/epoch - 125ms/step\n",
      "Epoch 17/30\n",
      "100/100 - 12s - loss: 0.0079 - acc: 0.9975 - val_loss: 0.5060 - val_acc: 0.9280 - 12s/epoch - 125ms/step\n",
      "Epoch 18/30\n",
      "100/100 - 13s - loss: 0.0190 - acc: 0.9930 - val_loss: 0.4585 - val_acc: 0.9310 - 13s/epoch - 125ms/step\n",
      "Epoch 19/30\n",
      "100/100 - 12s - loss: 0.0026 - acc: 0.9990 - val_loss: 0.5324 - val_acc: 0.9180 - 12s/epoch - 125ms/step\n",
      "Epoch 20/30\n",
      "100/100 - 13s - loss: 0.0046 - acc: 0.9980 - val_loss: 0.4830 - val_acc: 0.9220 - 13s/epoch - 127ms/step\n",
      "Epoch 21/30\n",
      "100/100 - 12s - loss: 0.0038 - acc: 0.9980 - val_loss: 1.2644 - val_acc: 0.8720 - 12s/epoch - 125ms/step\n",
      "Epoch 22/30\n",
      "100/100 - 12s - loss: 0.0258 - acc: 0.9940 - val_loss: 0.4504 - val_acc: 0.9260 - 12s/epoch - 125ms/step\n",
      "Epoch 23/30\n",
      "100/100 - 12s - loss: 0.0085 - acc: 0.9980 - val_loss: 0.3827 - val_acc: 0.9280 - 12s/epoch - 125ms/step\n",
      "Epoch 24/30\n",
      "100/100 - 13s - loss: 0.0065 - acc: 0.9975 - val_loss: 0.4265 - val_acc: 0.9360 - 13s/epoch - 125ms/step\n",
      "Epoch 25/30\n",
      "100/100 - 13s - loss: 0.0051 - acc: 0.9975 - val_loss: 0.5810 - val_acc: 0.9240 - 13s/epoch - 125ms/step\n",
      "Epoch 26/30\n",
      "100/100 - 12s - loss: 0.0043 - acc: 0.9980 - val_loss: 0.6176 - val_acc: 0.9180 - 12s/epoch - 125ms/step\n",
      "Epoch 27/30\n",
      "100/100 - 13s - loss: 0.0050 - acc: 0.9980 - val_loss: 0.5473 - val_acc: 0.9240 - 13s/epoch - 125ms/step\n",
      "Epoch 28/30\n",
      "100/100 - 12s - loss: 0.0026 - acc: 0.9995 - val_loss: 0.6964 - val_acc: 0.9130 - 12s/epoch - 125ms/step\n",
      "Epoch 29/30\n",
      "100/100 - 13s - loss: 0.0082 - acc: 0.9980 - val_loss: 0.4390 - val_acc: 0.9290 - 13s/epoch - 125ms/step\n",
      "Epoch 30/30\n",
      "100/100 - 13s - loss: 0.0037 - acc: 0.9980 - val_loss: 0.5328 - val_acc: 0.9240 - 13s/epoch - 125ms/step\n"
     ]
    }
   ],
   "source": [
    "from keras.preprocessing.image import ImageDataGenerator\n",
    "from tensorflow.keras import optimizers\n",
    "\n",
    "train_datagen = ImageDataGenerator(\n",
    "    rescale=1./255,\n",
    "    rotation_range=20,\n",
    "    width_shift_range=0.1,\n",
    "    height_shift_range=0.1,\n",
    "    shear_range=0.1,\n",
    "    zoom_range=0.1,\n",
    "    horizontal_flip=True,\n",
    "    fill_mode='nearest')\n",
    "\n",
    "test_datagen = ImageDataGenerator(rescale=1./255)\n",
    "\n",
    "train_generator = train_datagen.flow_from_directory(\n",
    "    train_dir,\n",
    "    target_size=(150,150),\n",
    "    batch_size=20,\n",
    "    class_mode='binary')\n",
    "\n",
    "validation_generator = test_datagen.flow_from_directory(\n",
    "    validation_dir,\n",
    "    target_size=(150,150),\n",
    "    batch_size=20,\n",
    "    class_mode='binary')\n",
    "\n",
    "model.compile(loss='binary_crossentropy',optimizer=optimizers.RMSprop(learning_rate=2e-5),metrics=['acc'])\n",
    "\n",
    "history = model.fit_generator(\n",
    "        train_generator,\n",
    "        steps_per_epoch=100,\n",
    "        epochs=30,\n",
    "        validation_data=validation_generator,\n",
    "        validation_steps=50,\n",
    "        verbose=2)"
   ]
  },
  {
   "cell_type": "code",
   "execution_count": 11,
   "id": "b4b5a204",
   "metadata": {},
   "outputs": [
    {
     "data": {
      "image/png": "[encoded data removed]",
      "text/plain": [
       "<Figure size 432x288 with 1 Axes>"
      ]
     },
     "metadata": {
      "needs_background": "light"
     },
     "output_type": "display_data"
    },
    {
     "data": {
      "image/png": "[encoded data removed]",
      "text/plain": [
       "<Figure size 432x288 with 1 Axes>"
      ]
     },
     "metadata": {
      "needs_background": "light"
     },
     "output_type": "display_data"
    }
   ],
   "source": [
    "import matplotlib.pyplot as plt\n",
    "\n",
    "acc = history.history['acc']\n",
    "val_acc = history.history['val_acc']\n",
    "loss = history.history['loss']\n",
    "val_loss = history.history['val_loss']\n",
    "\n",
    "epochs = range(1,len(acc) + 1)\n",
    "\n",
    "plt.plot(epochs,acc,'bo',label='Training acc')\n",
    "plt.plot(epochs,val_acc,'b',label='validation acc')\n",
    "plt.title('Training and validation accuracy')\n",
    "\n",
    "plt.legend()\n",
    "\n",
    "plt.figure()\n",
    "\n",
    "plt.plot(epochs,loss,'bo',label='Training acc')\n",
    "plt.plot(epochs,val_loss,'b',label='validation acc')\n",
    "plt.title('Training and validation loss')\n",
    "plt.legend()\n",
    "\n",
    "plt.show()"
   ]
  },
  {
   "cell_type": "code",
   "execution_count": 12,
   "id": "a0c40e3f",
   "metadata": {},
   "outputs": [],
   "source": [
    "conv_base.trainable = True\n",
    "\n",
    "set_trainable = False\n",
    "for layer in conv_base.layers:\n",
    "    if layer.name == 'block5_conv1':\n",
    "        set_trainable = True\n",
    "    if set_trainable:\n",
    "        layer.trainable = True\n",
    "    else:\n",
    "        layer.trainable = False\n",
    "        "
   ]
  },
  {
   "cell_type": "code",
   "execution_count": 13,
   "id": "2b99b414",
   "metadata": {},
   "outputs": [
    {
     "name": "stdout",
     "output_type": "stream",
     "text": [
      "Epoch 1/100\n"
     ]
    },
    {
     "name": "stderr",
     "output_type": "stream",
     "text": [
      "/Users/jw1010110/miniforge3/envs/tensorflow_gpu/lib/python3.9/site-packages/keras/optimizer_v2/rmsprop.py:130: UserWarning: The `lr` argument is deprecated, use `learning_rate` instead.\n",
      "  super(RMSprop, self).__init__(name, **kwargs)\n",
      "/var/folders/pn/m2bqkk014sv8108lk7tl4xy80000gn/T/ipykernel_19487/959284415.py:2: UserWarning: `Model.fit_generator` is deprecated and will be removed in a future version. Please use `Model.fit`, which supports generators.\n",
      "  history = model.fit_generator(\n",
      "2022-05-18 16:53:34.121388: I tensorflow/core/grappler/optimizers/custom_graph_optimizer_registry.cc:113] Plugin optimizer for device_type GPU is enabled.\n"
     ]
    },
    {
     "name": "stdout",
     "output_type": "stream",
     "text": [
      "100/100 [==============================] - ETA: 0s - loss: 0.1875 - acc: 0.9245"
     ]
    },
    {
     "name": "stderr",
     "output_type": "stream",
     "text": [
      "2022-05-18 16:53:43.674799: I tensorflow/core/grappler/optimizers/custom_graph_optimizer_registry.cc:113] Plugin optimizer for device_type GPU is enabled.\n"
     ]
    },
    {
     "name": "stdout",
     "output_type": "stream",
     "text": [
      "100/100 [==============================] - 13s 128ms/step - loss: 0.1875 - acc: 0.9245 - val_loss: 0.2584 - val_acc: 0.8970\n",
      "Epoch 2/100\n",
      "100/100 [==============================] - 13s 126ms/step - loss: 0.1595 - acc: 0.9425 - val_loss: 0.2278 - val_acc: 0.9130\n",
      "Epoch 3/100\n",
      "100/100 [==============================] - 13s 126ms/step - loss: 0.1252 - acc: 0.9520 - val_loss: 0.2124 - val_acc: 0.9260\n",
      "Epoch 4/100\n",
      "100/100 [==============================] - 13s 127ms/step - loss: 0.1265 - acc: 0.9505 - val_loss: 0.2279 - val_acc: 0.9190\n",
      "Epoch 5/100\n",
      "100/100 [==============================] - 13s 127ms/step - loss: 0.1015 - acc: 0.9580 - val_loss: 0.2527 - val_acc: 0.9210\n",
      "Epoch 6/100\n",
      "100/100 [==============================] - 13s 127ms/step - loss: 0.0923 - acc: 0.9640 - val_loss: 0.2492 - val_acc: 0.9110\n",
      "Epoch 7/100\n",
      "100/100 [==============================] - 13s 127ms/step - loss: 0.0882 - acc: 0.9635 - val_loss: 0.2118 - val_acc: 0.9260\n",
      "Epoch 8/100\n",
      "100/100 [==============================] - 13s 126ms/step - loss: 0.0728 - acc: 0.9740 - val_loss: 0.2216 - val_acc: 0.9260\n",
      "Epoch 9/100\n",
      "100/100 [==============================] - 13s 126ms/step - loss: 0.0616 - acc: 0.9780 - val_loss: 0.2291 - val_acc: 0.9240\n",
      "Epoch 10/100\n",
      "100/100 [==============================] - 13s 127ms/step - loss: 0.0574 - acc: 0.9795 - val_loss: 0.2525 - val_acc: 0.9140\n",
      "Epoch 11/100\n",
      "100/100 [==============================] - 13s 127ms/step - loss: 0.0455 - acc: 0.9835 - val_loss: 0.4604 - val_acc: 0.8770\n",
      "Epoch 12/100\n",
      "100/100 [==============================] - 13s 126ms/step - loss: 0.0432 - acc: 0.9870 - val_loss: 0.2770 - val_acc: 0.9170\n",
      "Epoch 13/100\n",
      "100/100 [==============================] - 13s 127ms/step - loss: 0.0338 - acc: 0.9870 - val_loss: 0.2461 - val_acc: 0.9330\n",
      "Epoch 14/100\n",
      "100/100 [==============================] - 13s 127ms/step - loss: 0.0474 - acc: 0.9790 - val_loss: 0.2324 - val_acc: 0.9260\n",
      "Epoch 15/100\n",
      "100/100 [==============================] - 13s 127ms/step - loss: 0.0297 - acc: 0.9905 - val_loss: 0.2570 - val_acc: 0.9240\n",
      "Epoch 16/100\n",
      "100/100 [==============================] - 13s 127ms/step - loss: 0.0319 - acc: 0.9900 - val_loss: 0.2602 - val_acc: 0.9210\n",
      "Epoch 17/100\n",
      "100/100 [==============================] - 13s 126ms/step - loss: 0.0356 - acc: 0.9900 - val_loss: 0.2711 - val_acc: 0.9170\n",
      "Epoch 18/100\n",
      "100/100 [==============================] - 13s 126ms/step - loss: 0.0299 - acc: 0.9890 - val_loss: 0.2557 - val_acc: 0.9260\n",
      "Epoch 19/100\n",
      "100/100 [==============================] - 13s 127ms/step - loss: 0.0230 - acc: 0.9925 - val_loss: 0.2389 - val_acc: 0.9270\n",
      "Epoch 20/100\n",
      "100/100 [==============================] - 13s 128ms/step - loss: 0.0282 - acc: 0.9910 - val_loss: 0.2429 - val_acc: 0.9300\n",
      "Epoch 21/100\n",
      "100/100 [==============================] - 13s 127ms/step - loss: 0.0244 - acc: 0.9930 - val_loss: 0.2337 - val_acc: 0.9260\n",
      "Epoch 22/100\n",
      "100/100 [==============================] - 13s 127ms/step - loss: 0.0219 - acc: 0.9910 - val_loss: 0.2476 - val_acc: 0.9310\n",
      "Epoch 23/100\n",
      "100/100 [==============================] - 13s 127ms/step - loss: 0.0171 - acc: 0.9950 - val_loss: 0.2488 - val_acc: 0.9290\n",
      "Epoch 24/100\n",
      "100/100 [==============================] - 13s 127ms/step - loss: 0.0202 - acc: 0.9930 - val_loss: 0.3525 - val_acc: 0.9130\n",
      "Epoch 25/100\n",
      "100/100 [==============================] - 13s 127ms/step - loss: 0.0112 - acc: 0.9980 - val_loss: 0.2683 - val_acc: 0.9260\n",
      "Epoch 26/100\n",
      "100/100 [==============================] - 13s 127ms/step - loss: 0.0184 - acc: 0.9935 - val_loss: 0.3196 - val_acc: 0.9260\n",
      "Epoch 27/100\n",
      "100/100 [==============================] - 13s 127ms/step - loss: 0.0116 - acc: 0.9965 - val_loss: 0.2817 - val_acc: 0.9260\n",
      "Epoch 28/100\n",
      "100/100 [==============================] - 13s 127ms/step - loss: 0.0178 - acc: 0.9930 - val_loss: 0.2749 - val_acc: 0.9200\n",
      "Epoch 29/100\n",
      "100/100 [==============================] - 13s 127ms/step - loss: 0.0099 - acc: 0.9970 - val_loss: 0.3121 - val_acc: 0.9240\n",
      "Epoch 30/100\n",
      "100/100 [==============================] - 13s 127ms/step - loss: 0.0128 - acc: 0.9960 - val_loss: 0.2832 - val_acc: 0.9280\n",
      "Epoch 31/100\n",
      "100/100 [==============================] - 13s 127ms/step - loss: 0.0110 - acc: 0.9960 - val_loss: 0.2895 - val_acc: 0.9280\n",
      "Epoch 32/100\n",
      "100/100 [==============================] - 13s 126ms/step - loss: 0.0131 - acc: 0.9960 - val_loss: 0.2707 - val_acc: 0.9330\n",
      "Epoch 33/100\n",
      "100/100 [==============================] - 13s 128ms/step - loss: 0.0084 - acc: 0.9970 - val_loss: 0.2997 - val_acc: 0.9320\n",
      "Epoch 34/100\n",
      "100/100 [==============================] - 13s 127ms/step - loss: 0.0141 - acc: 0.9955 - val_loss: 0.4976 - val_acc: 0.9090\n",
      "Epoch 35/100\n",
      "100/100 [==============================] - 13s 127ms/step - loss: 0.0049 - acc: 0.9990 - val_loss: 0.3374 - val_acc: 0.9320\n",
      "Epoch 36/100\n",
      "100/100 [==============================] - 13s 127ms/step - loss: 0.0105 - acc: 0.9950 - val_loss: 0.2927 - val_acc: 0.9290\n",
      "Epoch 37/100\n",
      "100/100 [==============================] - 13s 127ms/step - loss: 0.0103 - acc: 0.9975 - val_loss: 0.2893 - val_acc: 0.9290\n",
      "Epoch 38/100\n",
      "100/100 [==============================] - 13s 127ms/step - loss: 0.0057 - acc: 0.9975 - val_loss: 0.3868 - val_acc: 0.9240\n",
      "Epoch 39/100\n",
      "100/100 [==============================] - 13s 127ms/step - loss: 0.0111 - acc: 0.9965 - val_loss: 0.2818 - val_acc: 0.9300\n",
      "Epoch 40/100\n",
      "100/100 [==============================] - 13s 127ms/step - loss: 0.0072 - acc: 0.9980 - val_loss: 0.3307 - val_acc: 0.9260\n",
      "Epoch 41/100\n",
      "100/100 [==============================] - 13s 127ms/step - loss: 0.0062 - acc: 0.9980 - val_loss: 0.3208 - val_acc: 0.9340\n",
      "Epoch 42/100\n",
      "100/100 [==============================] - 13s 127ms/step - loss: 0.0044 - acc: 0.9985 - val_loss: 0.3179 - val_acc: 0.9300\n",
      "Epoch 43/100\n",
      "100/100 [==============================] - 13s 126ms/step - loss: 0.0033 - acc: 0.9995 - val_loss: 0.3212 - val_acc: 0.9310\n",
      "Epoch 44/100\n",
      "100/100 [==============================] - 13s 127ms/step - loss: 0.0080 - acc: 0.9975 - val_loss: 0.2935 - val_acc: 0.9300\n",
      "Epoch 45/100\n",
      "100/100 [==============================] - 13s 127ms/step - loss: 0.0046 - acc: 0.9985 - val_loss: 0.3559 - val_acc: 0.9230\n",
      "Epoch 46/100\n",
      "100/100 [==============================] - 13s 127ms/step - loss: 0.0080 - acc: 0.9980 - val_loss: 0.5393 - val_acc: 0.9050\n",
      "Epoch 47/100\n",
      "100/100 [==============================] - 13s 127ms/step - loss: 0.0075 - acc: 0.9975 - val_loss: 0.3597 - val_acc: 0.9220\n",
      "Epoch 48/100\n",
      "100/100 [==============================] - 13s 126ms/step - loss: 0.0042 - acc: 0.9985 - val_loss: 0.3429 - val_acc: 0.9300\n",
      "Epoch 49/100\n",
      "100/100 [==============================] - 13s 127ms/step - loss: 0.0095 - acc: 0.9960 - val_loss: 0.3011 - val_acc: 0.9290\n",
      "Epoch 50/100\n",
      "100/100 [==============================] - 13s 126ms/step - loss: 0.0055 - acc: 0.9980 - val_loss: 0.3980 - val_acc: 0.9170\n",
      "Epoch 51/100\n",
      "100/100 [==============================] - 13s 127ms/step - loss: 0.0010 - acc: 1.0000 - val_loss: 0.3235 - val_acc: 0.9320\n",
      "Epoch 52/100\n",
      "100/100 [==============================] - 13s 127ms/step - loss: 0.0052 - acc: 0.9985 - val_loss: 0.3691 - val_acc: 0.9290\n",
      "Epoch 53/100\n",
      "100/100 [==============================] - 13s 127ms/step - loss: 0.0064 - acc: 0.9980 - val_loss: 0.3488 - val_acc: 0.9290\n",
      "Epoch 54/100\n",
      "100/100 [==============================] - 13s 127ms/step - loss: 0.0033 - acc: 0.9995 - val_loss: 0.3663 - val_acc: 0.9250\n",
      "Epoch 55/100\n",
      "100/100 [==============================] - 13s 126ms/step - loss: 0.0054 - acc: 0.9990 - val_loss: 0.3239 - val_acc: 0.9300\n",
      "Epoch 56/100\n",
      "100/100 [==============================] - 13s 127ms/step - loss: 0.0014 - acc: 1.0000 - val_loss: 0.3614 - val_acc: 0.9320\n",
      "Epoch 57/100\n",
      "100/100 [==============================] - 13s 127ms/step - loss: 0.0045 - acc: 0.9985 - val_loss: 0.9125 - val_acc: 0.8820\n",
      "Epoch 58/100\n",
      "100/100 [==============================] - 13s 127ms/step - loss: 0.0038 - acc: 0.9985 - val_loss: 0.3490 - val_acc: 0.9280\n",
      "Epoch 59/100\n",
      "100/100 [==============================] - 13s 127ms/step - loss: 0.0074 - acc: 0.9985 - val_loss: 0.3605 - val_acc: 0.9290\n",
      "Epoch 60/100\n",
      "100/100 [==============================] - 13s 127ms/step - loss: 0.0048 - acc: 0.9995 - val_loss: 0.3500 - val_acc: 0.9310\n"
     ]
    },
    {
     "name": "stdout",
     "output_type": "stream",
     "text": [
      "Epoch 61/100\n",
      "100/100 [==============================] - 13s 127ms/step - loss: 0.0037 - acc: 0.9995 - val_loss: 0.4603 - val_acc: 0.9190\n",
      "Epoch 62/100\n",
      "100/100 [==============================] - 13s 126ms/step - loss: 0.0022 - acc: 0.9995 - val_loss: 0.3990 - val_acc: 0.9260\n",
      "Epoch 63/100\n",
      "100/100 [==============================] - 13s 126ms/step - loss: 0.0016 - acc: 0.9995 - val_loss: 0.4055 - val_acc: 0.9270\n",
      "Epoch 64/100\n",
      "100/100 [==============================] - 13s 127ms/step - loss: 0.0044 - acc: 0.9985 - val_loss: 0.3613 - val_acc: 0.9310\n",
      "Epoch 65/100\n",
      "100/100 [==============================] - 13s 127ms/step - loss: 0.0063 - acc: 0.9970 - val_loss: 0.3498 - val_acc: 0.9290\n",
      "Epoch 66/100\n",
      "100/100 [==============================] - 13s 126ms/step - loss: 0.0045 - acc: 0.9990 - val_loss: 0.3637 - val_acc: 0.9360\n",
      "Epoch 67/100\n",
      "100/100 [==============================] - 13s 127ms/step - loss: 0.0043 - acc: 0.9995 - val_loss: 0.4110 - val_acc: 0.9320\n",
      "Epoch 68/100\n",
      "100/100 [==============================] - 13s 126ms/step - loss: 0.0047 - acc: 0.9985 - val_loss: 0.4324 - val_acc: 0.9220\n",
      "Epoch 69/100\n",
      "100/100 [==============================] - 13s 127ms/step - loss: 0.0092 - acc: 0.9975 - val_loss: 0.3729 - val_acc: 0.9310\n",
      "Epoch 70/100\n",
      "100/100 [==============================] - 13s 127ms/step - loss: 0.0012 - acc: 0.9990 - val_loss: 0.3339 - val_acc: 0.9360\n",
      "Epoch 71/100\n",
      "100/100 [==============================] - 13s 127ms/step - loss: 0.0037 - acc: 0.9980 - val_loss: 0.3529 - val_acc: 0.9350\n",
      "Epoch 72/100\n",
      "100/100 [==============================] - 13s 126ms/step - loss: 0.0043 - acc: 0.9975 - val_loss: 0.3661 - val_acc: 0.9310\n",
      "Epoch 73/100\n",
      "100/100 [==============================] - 13s 127ms/step - loss: 0.0065 - acc: 0.9970 - val_loss: 0.3871 - val_acc: 0.9280\n",
      "Epoch 74/100\n",
      "100/100 [==============================] - 13s 127ms/step - loss: 7.2979e-04 - acc: 1.0000 - val_loss: 0.3613 - val_acc: 0.9320\n",
      "Epoch 75/100\n",
      "100/100 [==============================] - 13s 127ms/step - loss: 0.0024 - acc: 0.9985 - val_loss: 0.3306 - val_acc: 0.9400\n",
      "Epoch 76/100\n",
      "100/100 [==============================] - 13s 127ms/step - loss: 0.0047 - acc: 0.9985 - val_loss: 0.3448 - val_acc: 0.9390\n",
      "Epoch 77/100\n",
      "100/100 [==============================] - 13s 127ms/step - loss: 0.0023 - acc: 0.9995 - val_loss: 0.4137 - val_acc: 0.9290\n",
      "Epoch 78/100\n",
      "100/100 [==============================] - 13s 127ms/step - loss: 0.0024 - acc: 0.9990 - val_loss: 0.3730 - val_acc: 0.9330\n",
      "Epoch 79/100\n",
      "100/100 [==============================] - 13s 127ms/step - loss: 0.0019 - acc: 0.9995 - val_loss: 0.3648 - val_acc: 0.9380\n",
      "Epoch 80/100\n",
      "100/100 [==============================] - 13s 128ms/step - loss: 0.0011 - acc: 0.9995 - val_loss: 0.4493 - val_acc: 0.9300\n",
      "Epoch 81/100\n",
      "100/100 [==============================] - 13s 128ms/step - loss: 0.0014 - acc: 0.9990 - val_loss: 0.3971 - val_acc: 0.9340\n",
      "Epoch 82/100\n",
      "100/100 [==============================] - 13s 128ms/step - loss: 0.0084 - acc: 0.9985 - val_loss: 0.3722 - val_acc: 0.9400\n",
      "Epoch 83/100\n",
      "100/100 [==============================] - 13s 126ms/step - loss: 0.0011 - acc: 0.9995 - val_loss: 0.3964 - val_acc: 0.9360\n",
      "Epoch 84/100\n",
      "100/100 [==============================] - 13s 126ms/step - loss: 0.0057 - acc: 0.9980 - val_loss: 0.3776 - val_acc: 0.9330\n",
      "Epoch 85/100\n",
      "100/100 [==============================] - 13s 128ms/step - loss: 0.0022 - acc: 0.9990 - val_loss: 0.3724 - val_acc: 0.9290\n",
      "Epoch 86/100\n",
      "100/100 [==============================] - 13s 127ms/step - loss: 4.2272e-04 - acc: 1.0000 - val_loss: 0.4262 - val_acc: 0.9270\n",
      "Epoch 87/100\n",
      "100/100 [==============================] - 13s 128ms/step - loss: 0.0014 - acc: 0.9995 - val_loss: 0.4161 - val_acc: 0.9320\n",
      "Epoch 88/100\n",
      "100/100 [==============================] - 13s 130ms/step - loss: 0.0038 - acc: 0.9990 - val_loss: 0.4578 - val_acc: 0.9270\n",
      "Epoch 89/100\n",
      "100/100 [==============================] - 13s 132ms/step - loss: 0.0011 - acc: 1.0000 - val_loss: 0.4259 - val_acc: 0.9300\n",
      "Epoch 90/100\n",
      "100/100 [==============================] - 13s 130ms/step - loss: 0.0028 - acc: 0.9990 - val_loss: 0.4145 - val_acc: 0.9320\n",
      "Epoch 91/100\n",
      "100/100 [==============================] - 13s 127ms/step - loss: 0.0050 - acc: 0.9980 - val_loss: 0.4331 - val_acc: 0.9290\n",
      "Epoch 92/100\n",
      "100/100 [==============================] - 13s 131ms/step - loss: 0.0015 - acc: 0.9995 - val_loss: 0.3781 - val_acc: 0.9310\n",
      "Epoch 93/100\n",
      "100/100 [==============================] - 13s 129ms/step - loss: 0.0027 - acc: 0.9990 - val_loss: 0.4080 - val_acc: 0.9390\n",
      "Epoch 94/100\n",
      "100/100 [==============================] - 13s 129ms/step - loss: 4.2907e-04 - acc: 1.0000 - val_loss: 0.3974 - val_acc: 0.9310\n",
      "Epoch 95/100\n",
      "100/100 [==============================] - 13s 126ms/step - loss: 0.0026 - acc: 0.9985 - val_loss: 0.4329 - val_acc: 0.9310\n",
      "Epoch 96/100\n",
      "100/100 [==============================] - 13s 127ms/step - loss: 7.6725e-04 - acc: 0.9995 - val_loss: 0.4549 - val_acc: 0.9330\n",
      "Epoch 97/100\n",
      "100/100 [==============================] - 13s 129ms/step - loss: 0.0028 - acc: 0.9990 - val_loss: 0.4581 - val_acc: 0.9260\n",
      "Epoch 98/100\n",
      "100/100 [==============================] - 14s 135ms/step - loss: 0.0032 - acc: 0.9990 - val_loss: 0.3724 - val_acc: 0.9370\n",
      "Epoch 99/100\n",
      "100/100 [==============================] - 13s 130ms/step - loss: 0.0027 - acc: 0.9990 - val_loss: 0.4088 - val_acc: 0.9310\n",
      "Epoch 100/100\n",
      "100/100 [==============================] - 13s 126ms/step - loss: 0.0015 - acc: 0.9995 - val_loss: 0.4282 - val_acc: 0.9260\n"
     ]
    }
   ],
   "source": [
    "model.compile(loss='binary_crossentropy',optimizer=optimizers.RMSprop(lr=1e-5),metrics=['acc'])\n",
    "history = model.fit_generator(\n",
    "        train_generator,\n",
    "        steps_per_epoch=100,\n",
    "        epochs=100,\n",
    "        validation_data=validation_generator,\n",
    "        validation_steps=50)"
   ]
  },
  {
   "cell_type": "code",
   "execution_count": 14,
   "id": "ee012420",
   "metadata": {},
   "outputs": [
    {
     "data": {
      "image/png": "[encoded data removed]",
      "text/plain": [
       "<Figure size 432x288 with 1 Axes>"
      ]
     },
     "metadata": {
      "needs_background": "light"
     },
     "output_type": "display_data"
    },
    {
     "data": {
      "image/png": "[encoded data removed]",
      "text/plain": [
       "<Figure size 432x288 with 1 Axes>"
      ]
     },
     "metadata": {
      "needs_background": "light"
     },
     "output_type": "display_data"
    }
   ],
   "source": [
    "import matplotlib.pyplot as plt\n",
    "\n",
    "acc = history.history['acc']\n",
    "val_acc = history.history['val_acc']\n",
    "loss = history.history['loss']\n",
    "val_loss = history.history['val_loss']\n",
    "\n",
    "epochs = range(1,len(acc) + 1)\n",
    "\n",
    "plt.plot(epochs,acc,'bo',label='Training acc')\n",
    "plt.plot(epochs,val_acc,'b',label='validation acc')\n",
    "plt.title('Training and validation accuracy')\n",
    "\n",
    "plt.legend()\n",
    "\n",
    "plt.figure()\n",
    "\n",
    "plt.plot(epochs,loss,'bo',label='Training acc')\n",
    "plt.plot(epochs,val_loss,'b',label='validation acc')\n",
    "plt.title('Training and validation loss')\n",
    "plt.legend()\n",
    "\n",
    "plt.show()"
   ]
  },
  {
   "cell_type": "code",
   "execution_count": 16,
   "id": "3476fbfa",
   "metadata": {},
   "outputs": [
    {
     "data": {
      "image/png": "[encoded data removed]",
      "text/plain": [
       "<Figure size 432x288 with 1 Axes>"
      ]
     },
     "metadata": {
      "needs_background": "light"
     },
     "output_type": "display_data"
    },
    {
     "data": {
      "image/png": "[encoded data removed]",
      "text/plain": [
       "<Figure size 432x288 with 1 Axes>"
      ]
     },
     "metadata": {
      "needs_background": "light"
     },
     "output_type": "display_data"
    }
   ],
   "source": [
    "def smooth_curve(points, factor=0.8): \n",
    "    smoothed_points = []\n",
    "    for point in points: \n",
    "        if smoothed_points: # not empty\n",
    "            previous = smoothed_points[-1]\n",
    "            smoothed_points.append(previous * factor + point * (1 - factor)) \n",
    "        else:\n",
    "            smoothed_points.append(point) \n",
    "    return smoothed_points\n",
    "\n",
    "plt.plot(epochs,smooth_curve(acc),'bo',label='smoothed training acc')\n",
    "plt.plot(epochs,smooth_curve(val_acc),'b',label='smoothed validation acc')\n",
    "plt.title('Training and validation accuracy')\n",
    "plt.legend()\n",
    "\n",
    "plt.figure()\n",
    "\n",
    "plt.plot(epochs,smooth_curve(loss),'bo',label='smoothed training loss')\n",
    "plt.plot(epochs,smooth_curve(val_loss),'b',label='smoothed validation loss')\n",
    "plt.title('Trainging and validation loss')\n",
    "plt.legend()\n",
    "\n",
    "plt.show()"
   ]
  },
  {
   "cell_type": "code",
   "execution_count": 21,
   "id": "87b223a4",
   "metadata": {},
   "outputs": [
    {
     "name": "stdout",
     "output_type": "stream",
     "text": [
      "Found 1000 images belonging to 2 classes.\n"
     ]
    },
    {
     "name": "stderr",
     "output_type": "stream",
     "text": [
      "/var/folders/pn/m2bqkk014sv8108lk7tl4xy80000gn/T/ipykernel_19487/2020560468.py:7: UserWarning: `Model.evaluate_generator` is deprecated and will be removed in a future version. Please use `Model.evaluate`, which supports generators.\n",
      "  test_loss, test_acc = model.evaluate_generator(test_generator,steps=50)\n"
     ]
    },
    {
     "name": "stdout",
     "output_type": "stream",
     "text": [
      "test acc: 0.9300000667572021\n"
     ]
    }
   ],
   "source": [
    "test_generator = test_datagen.flow_from_directory(\n",
    "        test_dir,\n",
    "        target_size=(150,150),\n",
    "        batch_size=20,\n",
    "        class_mode='binary')\n",
    "\n",
    "test_loss, test_acc = model.evaluate_generator(test_generator,steps=50)\n",
    "print('test acc:', test_acc)"
   ]
  },
  {
   "cell_type": "code",
   "execution_count": null,
   "id": "499a6d8b",
   "metadata": {},
   "outputs": [],
   "source": []
  }
 ],
 "metadata": {
  "kernelspec": {
   "display_name": "Python 3 (ipykernel)",
   "language": "python",
   "name": "python3"
  },
  "language_info": {
   "codemirror_mode": {
    "name": "ipython",
    "version": 3
   },
   "file_extension": ".py",
   "mimetype": "text/x-python",
   "name": "python",
   "nbconvert_exporter": "python",
   "pygments_lexer": "ipython3",
   "version": "3.9.0"
  }
 },
 "nbformat": 4,
 "nbformat_minor": 5
}
