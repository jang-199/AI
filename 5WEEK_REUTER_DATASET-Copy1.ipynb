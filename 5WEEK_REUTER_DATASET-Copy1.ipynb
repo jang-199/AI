{
 "cells": [
  {
   "cell_type": "markdown",
   "id": "ac69ecd7",
   "metadata": {},
   "source": [
    "# REUTER DATASET\n",
    "\n",
    "목표: 로이터 뉴스를 46개의 토픽으로 분류한다. \n",
    "cf.다중분류 문제의 예. 각 뉴스가 하나의 범주로 분류됨으로 단일 레이블 다중 분류다. 만일 여러개의 범주로 나뉜다면 그것은 다중 레이블 다중 분류 문제일 것이다.\n",
    "\n",
    "구성: 46개의 토픽으로 구성. 각 토픽은 10개 이상의 샘플로 이루어짐."
   ]
  },
  {
   "cell_type": "code",
   "execution_count": 1,
   "id": "fba5aca1",
   "metadata": {},
   "outputs": [],
   "source": [
    "from keras.datasets import reuters\n",
    "\n",
    "(train_data,train_labels), (test_data, test_labels) = reuters.load_data(num_words=10000)\n",
    "#IMDB처럼 num_words 매개변수는 데이터에서 가장 자주 등장하는 단어 1만개로 제한\n",
    "#train 데이터는 IMDB처럼 정수 리스트"
   ]
  },
  {
   "cell_type": "code",
   "execution_count": 2,
   "id": "86d6f1b5",
   "metadata": {},
   "outputs": [
    {
     "data": {
      "text/plain": [
       "3"
      ]
     },
     "execution_count": 2,
     "metadata": {},
     "output_type": "execute_result"
    }
   ],
   "source": [
    "word_index = reuters.get_word_index()\n",
    "reverse_word_index = dict([(value, key) for (key, value) in word_index.items()] )\n",
    "decoded_newswire = ' '.join([reverse_word_index.get(i - 3 , '?') for i in train_data[0]]) \n",
    "#0,1,2는 패딩, 문서 시작, 사전에 없음을 위한 인덱스이므로 3을 뺀다 cf. IMDB도 동일\n",
    "train_labels[10] #샘플에 연결된 레이블은 토픽의 인덱스로 0~45 사이의 정수"
   ]
  },
  {
   "cell_type": "code",
   "execution_count": 3,
   "id": "8234e7e9",
   "metadata": {},
   "outputs": [],
   "source": [
    "import numpy as np\n",
    "\n",
    "def vectorize_sequences(sequences, dimension=10000): #one-hot encoding함수 구현\n",
    "    results = np.zeros((len(sequences),dimension)) #행:sequences, 열:dimension 크기의 원소가 0인 배열 생성\n",
    "    for i, sequence in enumerate(sequences): #enumerate는 (리스트의 원소 인덱스, 원소)로 반환한다. -> i:인덱스 sequence:원소 \n",
    "        results[i,sequence] = 1. #results[i]에서 특정 인덱스의 위치를 1로 만든다\n",
    "    return results\n",
    "\n",
    "x_train = vectorize_sequences(train_data) #훈련 데이터 백터 변환\n",
    "x_test = vectorize_sequences(test_data) #테스트 데이터 백터 변환\n",
    "one_hot_train_labels = vectorize_sequences(train_labels,46) # 레이블은 0~45까지의 인덱스이므로 demention을 46으로 해야함\n",
    "one_hot_test_labels = vectorize_sequences(test_labels,46)\n",
    "\n",
    "#cf.MNIST예제처럼 to_categorical 내장함수를 사용해도 됨"
   ]
  },
  {
   "cell_type": "code",
   "execution_count": 4,
   "id": "22805601",
   "metadata": {},
   "outputs": [],
   "source": [
    "from keras import models\n",
    "from keras import layers\n",
    "\n",
    "model = models.Sequential()\n",
    "model.add(layers.Dense(64,activation='relu',input_shape=(10000,))) #Output layer가 46개. 따라서 hidden layer는 이보다 많아야함\n",
    "model.add(layers.Dense(64,activation='relu'))\n",
    "model.add(layers.Dense(46,activation='softmax')) #MNIST와 동일하게 각 입력 샘플마다 46개의 출력 클래스에 대한 확률 분포를 출력\n",
    "                                                 #46개의 값을 더하면 1이다"
   ]
  },
  {
   "cell_type": "code",
   "execution_count": 5,
   "id": "c11a8077",
   "metadata": {},
   "outputs": [],
   "source": [
    "model.compile(optimizer='rmsprop',\n",
    "             loss='categorical_crossentropy',\n",
    "             metrics=['accuracy'])"
   ]
  },
  {
   "cell_type": "code",
   "execution_count": 6,
   "id": "67632916",
   "metadata": {},
   "outputs": [],
   "source": [
    "x_val = x_train[:1000] #처음부터 인덱스9999까지\n",
    "partial_x_train = x_train[1000:] #10000부터 끝까지\n",
    "y_val = one_hot_train_labels[:1000] #검증할 데이터\n",
    "partial_y_train = one_hot_train_labels[1000:] #훈련시킬 데이터"
   ]
  },
  {
   "cell_type": "code",
   "execution_count": 7,
   "id": "1415b3ba",
   "metadata": {},
   "outputs": [
    {
     "name": "stdout",
     "output_type": "stream",
     "text": [
      "Epoch 1/20\n",
      "16/16 [==============================] - 1s 31ms/step - loss: 2.5993 - accuracy: 0.5331 - val_loss: 1.7253 - val_accuracy: 0.6310\n",
      "Epoch 2/20\n",
      "16/16 [==============================] - 0s 16ms/step - loss: 1.4111 - accuracy: 0.6994 - val_loss: 1.2994 - val_accuracy: 0.7130\n",
      "Epoch 3/20\n",
      "16/16 [==============================] - 0s 17ms/step - loss: 1.0459 - accuracy: 0.7711 - val_loss: 1.1145 - val_accuracy: 0.7520\n",
      "Epoch 4/20\n",
      "16/16 [==============================] - 0s 17ms/step - loss: 0.8211 - accuracy: 0.8275 - val_loss: 1.0244 - val_accuracy: 0.7730\n",
      "Epoch 5/20\n",
      "16/16 [==============================] - 0s 22ms/step - loss: 0.6482 - accuracy: 0.8639 - val_loss: 0.9579 - val_accuracy: 0.7910\n",
      "Epoch 6/20\n",
      "16/16 [==============================] - 0s 19ms/step - loss: 0.5151 - accuracy: 0.8918 - val_loss: 0.9773 - val_accuracy: 0.7800\n",
      "Epoch 7/20\n",
      "16/16 [==============================] - 0s 18ms/step - loss: 0.4178 - accuracy: 0.9121 - val_loss: 0.8963 - val_accuracy: 0.8170\n",
      "Epoch 8/20\n",
      "16/16 [==============================] - 0s 18ms/step - loss: 0.3371 - accuracy: 0.9297 - val_loss: 0.9099 - val_accuracy: 0.8070\n",
      "Epoch 9/20\n",
      "16/16 [==============================] - 0s 18ms/step - loss: 0.2853 - accuracy: 0.9377 - val_loss: 0.8786 - val_accuracy: 0.8190\n",
      "Epoch 10/20\n",
      "16/16 [==============================] - 0s 17ms/step - loss: 0.2347 - accuracy: 0.9451 - val_loss: 0.8811 - val_accuracy: 0.8240\n",
      "Epoch 11/20\n",
      "16/16 [==============================] - 0s 17ms/step - loss: 0.2020 - accuracy: 0.9491 - val_loss: 0.9222 - val_accuracy: 0.8140\n",
      "Epoch 12/20\n",
      "16/16 [==============================] - 0s 24ms/step - loss: 0.1861 - accuracy: 0.9493 - val_loss: 0.9226 - val_accuracy: 0.8150\n",
      "Epoch 13/20\n",
      "16/16 [==============================] - 0s 18ms/step - loss: 0.1641 - accuracy: 0.9530 - val_loss: 0.9326 - val_accuracy: 0.8140\n",
      "Epoch 14/20\n",
      "16/16 [==============================] - 0s 17ms/step - loss: 0.1540 - accuracy: 0.9533 - val_loss: 0.9881 - val_accuracy: 0.8020\n",
      "Epoch 15/20\n",
      "16/16 [==============================] - 0s 17ms/step - loss: 0.1394 - accuracy: 0.9559 - val_loss: 1.0249 - val_accuracy: 0.8050\n",
      "Epoch 16/20\n",
      "16/16 [==============================] - 0s 22ms/step - loss: 0.1336 - accuracy: 0.9559 - val_loss: 1.0397 - val_accuracy: 0.8020\n",
      "Epoch 17/20\n",
      "16/16 [==============================] - 0s 18ms/step - loss: 0.1292 - accuracy: 0.9565 - val_loss: 1.0065 - val_accuracy: 0.8120\n",
      "Epoch 18/20\n",
      "16/16 [==============================] - 0s 19ms/step - loss: 0.1210 - accuracy: 0.9564 - val_loss: 1.0438 - val_accuracy: 0.8100\n",
      "Epoch 19/20\n",
      "16/16 [==============================] - 0s 18ms/step - loss: 0.1152 - accuracy: 0.9564 - val_loss: 1.0703 - val_accuracy: 0.8030\n",
      "Epoch 20/20\n",
      "16/16 [==============================] - 0s 16ms/step - loss: 0.1140 - accuracy: 0.9570 - val_loss: 1.1380 - val_accuracy: 0.7950\n"
     ]
    }
   ],
   "source": [
    "history = model.fit(partial_x_train,\n",
    "                   partial_y_train,\n",
    "                   epochs=20,\n",
    "                   batch_size=512,\n",
    "                   validation_data=(x_val,y_val))"
   ]
  },
  {
   "cell_type": "code",
   "execution_count": 8,
   "id": "5de93e39",
   "metadata": {},
   "outputs": [
    {
     "data": {
      "image/png": "[encoded data removed]",
      "text/plain": [
       "<Figure size 432x288 with 1 Axes>"
      ]
     },
     "metadata": {
      "needs_background": "light"
     },
     "output_type": "display_data"
    }
   ],
   "source": [
    "import matplotlib.pyplot as plt\n",
    "\n",
    "history_dict = history.history\n",
    "loss_values = history_dict['loss'] \n",
    "val_loss_values = history_dict['val_loss']\n",
    "\n",
    "epochs = range(1, len(loss_values) + 1)\n",
    "\n",
    "plt.plot(epochs, loss_values, 'bo', label='Training loss') \n",
    "plt.plot(epochs, val_loss_values, 'b', label='Validation loss')\n",
    "plt.title('Training and validation loss') \n",
    "plt.xlabel('Epochs')\n",
    "plt.ylabel('Loss') \n",
    "plt.legend()\n",
    "\n",
    "plt.show()"
   ]
  },
  {
   "cell_type": "code",
   "execution_count": 9,
   "id": "f29b43db",
   "metadata": {},
   "outputs": [
    {
     "data": {
      "image/png": "[encoded data removed]",
      "text/plain": [
       "<Figure size 432x288 with 1 Axes>"
      ]
     },
     "metadata": {
      "needs_background": "light"
     },
     "output_type": "display_data"
    }
   ],
   "source": [
    "plt.clf() # 생성한 그래프 초기화\n",
    "acc = history_dict['accuracy'] \n",
    "val_acc = history_dict['val_accuracy']\n",
    "plt.plot(epochs, acc, 'bo', label='Training acc') \n",
    "plt.plot(epochs, val_acc, 'b', label='Validation acc') \n",
    "plt.title('Training and validation accuracy') \n",
    "plt.xlabel('Epochs')\n",
    "plt.ylabel('Acc') \n",
    "plt.legend()\n",
    "plt.show()"
   ]
  },
  {
   "cell_type": "code",
   "execution_count": 10,
   "id": "c5033953",
   "metadata": {},
   "outputs": [
    {
     "name": "stdout",
     "output_type": "stream",
     "text": [
      "Epoch 1/9\n",
      "16/16 [==============================] - 1s 18ms/step - loss: 0.3755 - accuracy: 0.0375\n",
      "Epoch 2/9\n",
      "16/16 [==============================] - 0s 19ms/step - loss: 0.1174 - accuracy: 0.4214\n",
      "Epoch 3/9\n",
      "16/16 [==============================] - 0s 18ms/step - loss: 0.0748 - accuracy: 0.5677\n",
      "Epoch 4/9\n",
      "16/16 [==============================] - 0s 17ms/step - loss: 0.0555 - accuracy: 0.6612\n",
      "Epoch 5/9\n",
      "16/16 [==============================] - 0s 18ms/step - loss: 0.0437 - accuracy: 0.7189\n",
      "Epoch 6/9\n",
      "16/16 [==============================] - 0s 19ms/step - loss: 0.0353 - accuracy: 0.7734\n",
      "Epoch 7/9\n",
      "16/16 [==============================] - 0s 17ms/step - loss: 0.0295 - accuracy: 0.8107\n",
      "Epoch 8/9\n",
      "16/16 [==============================] - 0s 20ms/step - loss: 0.0249 - accuracy: 0.8439\n",
      "Epoch 9/9\n",
      "16/16 [==============================] - 0s 18ms/step - loss: 0.0214 - accuracy: 0.8721\n",
      "71/71 [==============================] - 0s 2ms/step - loss: 0.0338 - accuracy: 0.7756\n",
      "[0.033801719546318054, 0.7756010890007019]\n"
     ]
    }
   ],
   "source": [
    "#9번째 epochs에서부터 overfitting되었음 \n",
    "#따라서 epochs를 9까지로 제한하고 훈련 재시작\n",
    "model = models.Sequential()\n",
    "model.add(layers.Dense(64, activation='relu', input_shape=(10000,))) \n",
    "model.add(layers.Dense(64, activation='relu')) \n",
    "model.add(layers.Dense(46, activation='sigmoid'))\n",
    "\n",
    "model.compile(optimizer='rmsprop',\n",
    "              loss='binary_crossentropy',\n",
    "              metrics=['accuracy'])\n",
    "\n",
    "model.fit(partial_x_train, partial_y_train, epochs=9, batch_size=512) \n",
    "results = model.evaluate(x_test, one_hot_test_labels)\n",
    "print(results)"
   ]
  }
 ],
 "metadata": {
  "kernelspec": {
   "display_name": "Python 3 (ipykernel)",
   "language": "python",
   "name": "python3"
  },
  "language_info": {
   "codemirror_mode": {
    "name": "ipython",
    "version": 3
   },
   "file_extension": ".py",
   "mimetype": "text/x-python",
   "name": "python",
   "nbconvert_exporter": "python",
   "pygments_lexer": "ipython3",
   "version": "3.9.7"
  }
 },
 "nbformat": 4,
 "nbformat_minor": 5
}
